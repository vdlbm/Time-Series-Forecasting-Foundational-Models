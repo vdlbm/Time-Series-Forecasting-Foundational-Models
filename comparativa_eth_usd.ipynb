{
 "cells": [
  {
   "cell_type": "code",
   "execution_count": 1,
   "metadata": {},
   "outputs": [],
   "source": [
    "import pandas as pd\n",
    "import numpy as np\n",
    "import matplotlib.pyplot as plt\n",
    "import my_data_frequency_conversor as dfc\n",
    "import my_models as mm\n"
   ]
  },
  {
   "cell_type": "code",
   "execution_count": 2,
   "metadata": {},
   "outputs": [],
   "source": [
    "DATA_HOURS = 'DATA/ETHUSD-H1.csv'\n",
    "DATA_DAYS = 'DATA/ETHUSD-D1.csv'\n",
    "DATA_MONTHS = 'DATA/ETHUSD-Monthly.csv'\n",
    "arima_h = mm.Model('ARIMA')\n",
    "arima_d = mm.Model('ARIMA')\n",
    "arima_m = mm.Model('ARIMA')\n",
    "exp_smooth_h = mm.Model('EXPONENTIAL SMOOTHING')\n",
    "exp_smooth_d = mm.Model('EXPONENTIAL SMOOTHING')\n",
    "exp_smooth_m = mm.Model('EXPONENTIAL SMOOTHING')\n",
    "holt_h = mm.Model('HOLT')\n",
    "holt_d = mm.Model('HOLT')\n",
    "holt_m = mm.Model('HOLT')\n",
    "holt_winters_h = mm.Model('HOLT WINTERS')\n",
    "holt_winters_d = mm.Model('HOLT WINTERS')\n",
    "holt_winters_m = mm.Model('HOLT WINTERS')\n",
    "timegpt_h = mm.Model('TIMEGPT')\n",
    "timegpt_d = mm.Model('TIMEGPT')\n",
    "timegpt_m = mm.Model('TIMEGPT')\n",
    "lagllama_h = mm.Model('LAGLLAMA')\n",
    "lagllama_d = mm.Model('LAGLLAMA')\n",
    "lagllama_m = mm.Model('LAGLLAMA')\n"
   ]
  },
  {
   "cell_type": "code",
   "execution_count": 3,
   "metadata": {},
   "outputs": [
    {
     "name": "stdout",
     "output_type": "stream",
     "text": [
      "                       Open\n",
      "DateTime                   \n",
      "2017-01-01 00:00:00  8.0441\n",
      "2017-01-01 01:00:00  8.1990\n",
      "2017-01-01 02:00:00  8.2600\n",
      "2017-01-01 03:00:00  8.4230\n",
      "2017-01-01 04:00:00  8.5700\n",
      "                       Open\n",
      "DateTime                   \n",
      "2024-01-01 00:00:00  2286.5\n",
      "2024-01-01 01:00:00  2295.6\n",
      "2024-01-01 02:00:00  2305.4\n",
      "2024-01-01 03:00:00  2295.8\n",
      "2024-01-01 04:00:00  2275.4\n"
     ]
    }
   ],
   "source": [
    "df = pd.read_csv(DATA_HOURS, delimiter=',')\n",
    "train_data_hours, val_data_hours = dfc.split_data(df)\n",
    "print(train_data_hours.head())\n",
    "print(val_data_hours.head())"
   ]
  },
  {
   "cell_type": "code",
   "execution_count": 4,
   "metadata": {},
   "outputs": [
    {
     "name": "stdout",
     "output_type": "stream",
     "text": [
      "               Open\n",
      "DateTime           \n",
      "2017-01-01   8.0441\n",
      "2017-01-02   8.2200\n",
      "2017-01-03   8.3700\n",
      "2017-01-04   9.6620\n",
      "2017-01-05  11.0620\n",
      "              Open\n",
      "DateTime          \n",
      "2024-01-01  2286.5\n",
      "2024-01-02  2352.7\n",
      "2024-01-03  2358.2\n",
      "2024-01-04  2211.3\n",
      "2024-01-05  2271.0\n"
     ]
    }
   ],
   "source": [
    "df = pd.read_csv(DATA_DAYS, delimiter=',')\n",
    "train_data_days, val_data_days = dfc.split_data(df)\n",
    "print(train_data_days.head())\n",
    "print(val_data_days.head())"
   ]
  },
  {
   "cell_type": "code",
   "execution_count": 6,
   "metadata": {},
   "outputs": [
    {
     "name": "stdout",
     "output_type": "stream",
     "text": [
      "               Open\n",
      "DateTime           \n",
      "2017-01-01   8.0441\n",
      "2017-02-01  10.7110\n",
      "2017-03-01  15.8300\n",
      "2017-04-01  49.7770\n",
      "2017-05-01  83.5180\n",
      "              Open\n",
      "DateTime          \n",
      "2024-01-01  2286.5\n",
      "2024-02-01  2283.0\n",
      "2024-03-01  3339.2\n",
      "2024-04-01  3650.6\n",
      "2024-05-01  3020.3\n"
     ]
    }
   ],
   "source": [
    "data_months = pd.read_csv(DATA_MONTHS, delimiter=',')\n",
    "train_data_months, val_data_months = dfc.split_data(data_months)\n",
    "print(train_data_months.head())\n",
    "print(val_data_months.head())"
   ]
  },
  {
   "cell_type": "code",
   "execution_count": null,
   "metadata": {},
   "outputs": [],
   "source": [
    "from darts.models import AutoARIMA\n",
    "from darts import TimeSeries\n"
   ]
  },
  {
   "cell_type": "code",
   "execution_count": null,
   "metadata": {},
   "outputs": [],
   "source": [
    "train_data_months_ts = TimeSeries.from_series(train_data_months, freq='MS')\n",
    "arima_m.model = AutoARIMA()\n",
    "arima_m.model.fit(train_data_months_ts)\n",
    "#arima_m.predictions = arima_m.model.predict(12)"
   ]
  },
  {
   "cell_type": "code",
   "execution_count": null,
   "metadata": {},
   "outputs": [],
   "source": [
    "train_data_days_ts = TimeSeries.from_series(train_data_days, freq='d')\n",
    "arima_d.model = AutoARIMA()\n",
    "arima_d.model.fit(train_data_days_ts)\n",
    "#arima_d.predictions = arima_d.model.predict(366)"
   ]
  },
  {
   "cell_type": "code",
   "execution_count": null,
   "metadata": {},
   "outputs": [],
   "source": [
    "train_data_hours_ts = TimeSeries.from_series(train_data_hours.asfreq('h').interpolate())\n",
    "arima_h.model = AutoARIMA()\n",
    "arima_h.model.fit(train_data_hours_ts)\n",
    "#arima_h.predictions = arima_h.model.predict(366*24) "
   ]
  },
  {
   "cell_type": "code",
   "execution_count": null,
   "metadata": {},
   "outputs": [],
   "source": [
    "from statsmodels.tsa.holtwinters import SimpleExpSmoothing \n",
    "from statsmodels.tsa.holtwinters import ExponentialSmoothing\n",
    "from statsmodels.tsa.holtwinters import Holt"
   ]
  },
  {
   "cell_type": "code",
   "execution_count": null,
   "metadata": {},
   "outputs": [],
   "source": [
    "# Ajustar el modelo con cálculo óptimo de alpha\n",
    "exp_smooth_m.model = SimpleExpSmoothing(train_data_months).fit(optimized=True)\n",
    "\n",
    "# Obtener el alpha óptimo\n",
    "optimal_alpha = exp_smooth_m.model.model.params[\"smoothing_level\"]\n",
    "print(f\"Alpha óptimo: {optimal_alpha:.4f}\")\n",
    "\n",
    "# Predicción a futuro (5 períodos)\n",
    "forecast = exp_smooth_m.model.forecast(steps=5)\n",
    "forecast\n"
   ]
  },
  {
   "cell_type": "code",
   "execution_count": null,
   "metadata": {},
   "outputs": [],
   "source": [
    "holt_m.model = Holt(train_data_months).fit(optimized=True)\n",
    "optimal_alpha = holt_m.model.model.params[\"smoothing_level\"]\n",
    "optimal_beta = holt_m.model.model.params[\"smoothing_trend\"]\n",
    "print(f\"Alpha óptimo: {optimal_alpha:.4f}\")\n",
    "print(f\"Beta óptimo: {optimal_beta:.4f}\")\n",
    "forecast = holt_m.model.forecast(steps=5)\n",
    "forecast"
   ]
  },
  {
   "cell_type": "code",
   "execution_count": null,
   "metadata": {},
   "outputs": [],
   "source": [
    "# Ajustar el modelo con cálculo óptimo de alpha\n",
    "holt_winters_m.model = ExponentialSmoothing(train_data_months, trend='add', seasonal='add', seasonal_periods=12).fit(optimized=True)\n",
    "\n",
    "# Obtener el alpha óptimo\n",
    "optimal_params = holt_winters_m.model.params\n",
    "print(f\"Parámetros óptimos: {optimal_params}\")\n",
    "\n",
    "# Predicción a futuro (5 períodos)\n",
    "forecast = holt_winters_m.model.forecast(steps=5)\n",
    "forecast"
   ]
  },
  {
   "cell_type": "code",
   "execution_count": 16,
   "metadata": {},
   "outputs": [],
   "source": [
    "from nixtla import NixtlaClient\n",
    "from dotenv import load_dotenv\n",
    "import os\n",
    "\n",
    "load_dotenv()  # Carga el .env\n",
    "\n",
    "my_api_key = os.getenv(\"MY_NIXTLA_API_KEY\")"
   ]
  },
  {
   "cell_type": "code",
   "execution_count": null,
   "metadata": {},
   "outputs": [],
   "source": [
    "nixtla_client = NixtlaClient(\n",
    "    api_key = my_api_key\n",
    ")\n",
    "nixtla_client.validate_api_key()\n",
    "\n",
    "timegpt_m.predictions = nixtla_client.predict(\n",
    "    df=train_data_months,\n",
    "    horizon=12,\n",
    "    time_col='DateTime',\n",
    "    target_col='Open',\n",
    ")\n",
    "\n",
    "timegpt_d.predictions = nixtla_client.predict(\n",
    "    df=train_data_days,\n",
    "    horizon=366,\n",
    "    time_col='DateTime',\n",
    "    target_col='Open',\n",
    ")\n",
    "\n",
    "timegpt_h.predictions = nixtla_client.predict(\n",
    "    df=train_data_hours,\n",
    "    horizon=366*24,\n",
    "    time_col='DateTime',\n",
    "    target_col='Open',\n",
    ")\n"
   ]
  },
  {
   "cell_type": "code",
   "execution_count": null,
   "metadata": {},
   "outputs": [],
   "source": [
    "#!git clone -b update-gluonts https://github.com/time-series-foundation-models/lag-llama/"
   ]
  },
  {
   "cell_type": "code",
   "execution_count": 29,
   "metadata": {},
   "outputs": [],
   "source": [
    "my_lag_llama_path = os.getenv(\"MY_LAG_LLAMA_PATH\")\n",
    "os.chdir(my_lag_llama_path)"
   ]
  },
  {
   "cell_type": "code",
   "execution_count": null,
   "metadata": {},
   "outputs": [],
   "source": []
  },
  {
   "cell_type": "code",
   "execution_count": null,
   "metadata": {},
   "outputs": [],
   "source": [
    "#%pip install -U -r requirements.txt"
   ]
  },
  {
   "cell_type": "code",
   "execution_count": null,
   "metadata": {},
   "outputs": [],
   "source": [
    "#!huggingface-cli download time-series-foundation-models/Lag-Llama lag-llama.ckpt --local-dir ."
   ]
  },
  {
   "cell_type": "code",
   "execution_count": 23,
   "metadata": {},
   "outputs": [],
   "source": [
    "from itertools import islice\n",
    "\n",
    "from matplotlib import pyplot as plt\n",
    "import matplotlib.dates as mdates\n",
    "\n",
    "import torch\n",
    "from gluonts.evaluation import make_evaluation_predictions, Evaluator\n",
    "from gluonts.dataset.repository.datasets import get_dataset\n",
    "\n",
    "from gluonts.dataset.pandas import PandasDataset\n",
    "import pandas as pd\n",
    "\n",
    "from lag_llama.gluon.estimator import LagLlamaEstimator"
   ]
  },
  {
   "cell_type": "code",
   "execution_count": 24,
   "metadata": {},
   "outputs": [],
   "source": [
    "import sys\n",
    "from types import ModuleType\n",
    "\n",
    "# Create dummy module hierarchy\n",
    "def create_dummy_module(module_path):\n",
    "    \"\"\"\n",
    "    Create a dummy module hierarchy for the given path.\n",
    "    Returns the leaf module.\n",
    "    \"\"\"\n",
    "    parts = module_path.split('.')\n",
    "    current = ''\n",
    "    parent = None\n",
    "\n",
    "    for part in parts:\n",
    "        current = current + '.' + part if current else part\n",
    "        if current not in sys.modules:\n",
    "            module = ModuleType(current)\n",
    "            sys.modules[current] = module\n",
    "            if parent:\n",
    "                setattr(sys.modules[parent], part, module)\n",
    "        parent = current\n",
    "\n",
    "    return sys.modules[module_path]\n",
    "\n",
    "# Create the dummy gluonts module hierarchy\n",
    "gluonts_module = create_dummy_module('gluonts.torch.modules.loss')\n",
    "\n",
    "# Create dummy classes for the specific loss functions\n",
    "class DistributionLoss:\n",
    "    def __init__(self, *args, **kwargs):\n",
    "        pass\n",
    "\n",
    "    def __call__(self, *args, **kwargs):\n",
    "        return 0.0\n",
    "\n",
    "    def __getattr__(self, name):\n",
    "        return lambda *args, **kwargs: None\n",
    "\n",
    "class NegativeLogLikelihood:\n",
    "    def __init__(self, *args, **kwargs):\n",
    "        pass\n",
    "\n",
    "    def __call__(self, *args, **kwargs):\n",
    "        return 0.0\n",
    "\n",
    "    def __getattr__(self, name):\n",
    "        return lambda *args, **kwargs: None\n",
    "\n",
    "# Add the specific classes to the module\n",
    "gluonts_module.DistributionLoss = DistributionLoss\n",
    "gluonts_module.NegativeLogLikelihood = NegativeLogLikelihood"
   ]
  },
  {
   "cell_type": "code",
   "execution_count": 25,
   "metadata": {},
   "outputs": [],
   "source": [
    "def get_lag_llama_predictions(dataset, prediction_length, device, context_length=32, use_rope_scaling=False, num_samples=100):\n",
    "    ckpt = torch.load(\"lag-llama.ckpt\", map_location=device, weights_only=False) # Uses GPU since in this Colab we use a GPU.\n",
    "    estimator_args = ckpt[\"hyper_parameters\"][\"model_kwargs\"]\n",
    "\n",
    "    rope_scaling_arguments = {\n",
    "        \"type\": \"linear\",\n",
    "        \"factor\": max(1.0, (context_length + prediction_length) / estimator_args[\"context_length\"]),\n",
    "    }\n",
    "\n",
    "    estimator = LagLlamaEstimator(\n",
    "        ckpt_path=\"lag-llama.ckpt\",\n",
    "        prediction_length=prediction_length,\n",
    "        context_length=context_length, # Lag-Llama was trained with a context length of 32, but can work with any context length\n",
    "\n",
    "        # estimator args\n",
    "        input_size=estimator_args[\"input_size\"],\n",
    "        n_layer=estimator_args[\"n_layer\"],\n",
    "        n_embd_per_head=estimator_args[\"n_embd_per_head\"],\n",
    "        n_head=estimator_args[\"n_head\"],\n",
    "        scaling=estimator_args[\"scaling\"],\n",
    "        time_feat=estimator_args[\"time_feat\"],\n",
    "        rope_scaling=rope_scaling_arguments if use_rope_scaling else None,\n",
    "\n",
    "        nonnegative_pred_samples=True,\n",
    "\n",
    "        batch_size=1,\n",
    "        num_parallel_samples=100,\n",
    "        device=device,\n",
    "    )\n",
    "\n",
    "    lightning_module = estimator.create_lightning_module()\n",
    "    transformation = estimator.create_transformation()\n",
    "    predictor = estimator.create_predictor(transformation, lightning_module)\n",
    "\n",
    "    forecast_it, ts_it = make_evaluation_predictions(\n",
    "        dataset=dataset,\n",
    "        predictor=predictor,\n",
    "        num_samples=num_samples\n",
    "    )\n",
    "    forecasts = list(forecast_it)\n",
    "    tss = list(ts_it)\n",
    "\n",
    "    return forecasts, tss"
   ]
  },
  {
   "cell_type": "code",
   "execution_count": 26,
   "metadata": {},
   "outputs": [],
   "source": [
    "# Define the dataset\n",
    "data_months.rename(columns={\"Open\": \"target\"}, inplace=True)\n",
    "# Convert numerical columns to float 32 format for lag-llama\n",
    "for col in data_months.columns:\n",
    "    # Check if column is not of string type\n",
    "    if data_months[col].dtype != 'object' and pd.api.types.is_string_dtype(data_months[col]) == False:\n",
    "        data_months[col] = data_months[col].astype('float32')\n",
    "\n",
    "backtest_dataset = PandasDataset(data_months, freq=\"M\")\n",
    "prediction_length = 12  # Define your prediction length. We use 24 here since the data is of hourly frequency\n",
    "num_samples = 100 # number of samples sampled from the probability distribution for each timestep\n",
    "device = torch.device(\"cpu\") # You can switch this to CPU or other GPUs if you'd like, depending on your environment"
   ]
  },
  {
   "cell_type": "code",
   "execution_count": 27,
   "metadata": {},
   "outputs": [],
   "source": [
    "forecasts, tss = get_lag_llama_predictions(backtest_dataset, prediction_length, device, num_samples)"
   ]
  },
  {
   "cell_type": "code",
   "execution_count": 28,
   "metadata": {},
   "outputs": [
    {
     "data": {
      "image/png": "[encoded data removed]",
      "text/plain": [
       "<Figure size 2000x1500 with 1 Axes>"
      ]
     },
     "metadata": {},
     "output_type": "display_data"
    }
   ],
   "source": [
    "plt.figure(figsize=(20, 15))\n",
    "date_formater = mdates.DateFormatter('%Y-%b-%d') \n",
    "plt.rcParams.update({'font.size': 15})\n",
    "\n",
    "# Iterate through the first 9 series, and plot the predicted samples\n",
    "for idx, (forecast, ts) in islice(enumerate(zip(forecasts, tss)), 9):\n",
    "    ax = plt.subplot(3, 3, idx+1)\n",
    "\n",
    "    plt.plot(ts[-4 * prediction_length:].to_timestamp(), label=\"target\", )\n",
    "    forecast.plot( color='g')\n",
    "    plt.xticks(rotation=60)\n",
    "    ax.xaxis.set_major_formatter(date_formater)\n",
    "    ax.set_title(forecast.item_id)\n",
    "\n",
    "plt.gcf().tight_layout()\n",
    "plt.legend()\n",
    "plt.show()\n"
   ]
  }
 ],
 "metadata": {
  "kernelspec": {
   "display_name": "Python 3",
   "language": "python",
   "name": "python3"
  },
  "language_info": {
   "codemirror_mode": {
    "name": "ipython",
    "version": 3
   },
   "file_extension": ".py",
   "mimetype": "text/x-python",
   "name": "python",
   "nbconvert_exporter": "python",
   "pygments_lexer": "ipython3",
   "version": "3.11.8"
  }
 },
 "nbformat": 4,
 "nbformat_minor": 2
}
