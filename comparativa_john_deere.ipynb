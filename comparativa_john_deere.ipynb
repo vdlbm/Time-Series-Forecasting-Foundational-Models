{
 "cells": [
  {
   "cell_type": "code",
   "execution_count": 1,
   "metadata": {},
   "outputs": [],
   "source": [
    "import pandas as pd\n",
    "import numpy as np\n",
    "import matplotlib.pyplot as plt\n",
    "import importlib\n"
   ]
  },
  {
   "cell_type": "code",
   "execution_count": 2,
   "metadata": {},
   "outputs": [
    {
     "data": {
      "text/plain": [
       "<module 'my_data_frequency_conversor' from 'c:\\\\Users\\\\vicde\\\\Desktop\\\\PROYECTOS\\\\Time-Series-Forecasting-Foundational-Models\\\\my_data_frequency_conversor.py'>"
      ]
     },
     "execution_count": 2,
     "metadata": {},
     "output_type": "execute_result"
    }
   ],
   "source": [
    "import my_data_frequency_conversor as dfc\n",
    "importlib.reload(dfc)"
   ]
  },
  {
   "cell_type": "code",
   "execution_count": 4,
   "metadata": {},
   "outputs": [
    {
     "name": "stdout",
     "output_type": "stream",
     "text": [
      "DateTime\n",
      "2018-01-02 14:30:00    156.67\n",
      "2018-01-02 15:30:00    157.51\n",
      "2018-01-02 16:30:00    156.91\n",
      "2018-01-02 17:30:00    157.52\n",
      "2018-01-02 18:30:00    157.14\n",
      "Name: Open, dtype: float64\n",
      "DateTime\n",
      "2024-01-02 14:30:00    398.21\n",
      "2024-01-02 15:30:00    405.39\n",
      "2024-01-02 16:30:00    402.10\n",
      "2024-01-02 18:30:00    402.44\n",
      "2024-01-02 19:30:00    402.80\n",
      "Name: Open, dtype: float64\n"
     ]
    }
   ],
   "source": [
    "df = pd.read_csv('DE_DATA.csv', delimiter=',')\n",
    "df['DateTime'] = pd.to_datetime(df['DateTime'])\n",
    "df_hours = dfc.mins_to_hours(df)\n",
    "train_data_hours = df_hours[df_hours.index.year < 2024]\n",
    "test_data_hours = df_hours[df_hours.index.year == 2024]\n",
    "print(train_data_hours.head())\n",
    "print(test_data_hours.head())"
   ]
  },
  {
   "cell_type": "code",
   "execution_count": 5,
   "metadata": {},
   "outputs": [
    {
     "name": "stdout",
     "output_type": "stream",
     "text": [
      "DateTime\n",
      "2018-01-02 14:30:00    156.67\n",
      "2018-01-03 14:30:00    157.75\n",
      "2018-01-04 14:30:00    159.00\n",
      "2018-01-05 14:30:00    159.76\n",
      "2018-01-08 14:30:00    160.06\n",
      "Name: Open, dtype: float64\n",
      "DateTime\n",
      "2024-01-02 14:30:00    398.21\n",
      "2024-01-03 14:30:00    394.77\n",
      "2024-01-04 14:30:00    390.97\n",
      "2024-01-05 14:30:00    388.50\n",
      "2024-01-08 14:30:00    393.74\n",
      "Name: Open, dtype: float64\n"
     ]
    }
   ],
   "source": [
    "df = pd.read_csv('DE_DATA.csv', delimiter=',')\n",
    "df['DateTime'] = pd.to_datetime(df['DateTime'])\n",
    "df_days = dfc.mins_to_days(df)\n",
    "train_data_days = df_days[df_days.index.year < 2024]\n",
    "test_data_days = df_days[df_days.index.year == 2024]\n",
    "print(train_data_days.head())\n",
    "print(test_data_days.head())"
   ]
  },
  {
   "cell_type": "code",
   "execution_count": 6,
   "metadata": {},
   "outputs": [
    {
     "name": "stdout",
     "output_type": "stream",
     "text": [
      "DateTime\n",
      "2018-01-31    166.45\n",
      "2018-02-28    161.09\n",
      "2018-03-31    154.95\n",
      "2018-04-30    135.35\n",
      "2018-05-31    149.76\n",
      "Freq: ME, Name: Open, dtype: float64\n",
      "DateTime\n",
      "2024-01-31    393.84\n",
      "2024-02-29    364.91\n",
      "2024-03-31    411.19\n",
      "2024-04-30    391.00\n",
      "2024-05-31    374.39\n",
      "Freq: ME, Name: Open, dtype: float64\n"
     ]
    }
   ],
   "source": [
    "df = pd.read_csv('DE_DATA.csv', delimiter=',')\n",
    "df['DateTime'] = pd.to_datetime(df['DateTime'])\n",
    "df_months = dfc.mins_to_months(df)\n",
    "train_data_months = df_months[df_months.index.year < 2024]\n",
    "test_data_months = df_months[df_months.index.year == 2024]\n",
    "print(train_data_months.head())\n",
    "print(test_data_months.head())"
   ]
  },
  {
   "cell_type": "code",
   "execution_count": null,
   "metadata": {},
   "outputs": [],
   "source": []
  }
 ],
 "metadata": {
  "kernelspec": {
   "display_name": "Python 3",
   "language": "python",
   "name": "python3"
  },
  "language_info": {
   "codemirror_mode": {
    "name": "ipython",
    "version": 3
   },
   "file_extension": ".py",
   "mimetype": "text/x-python",
   "name": "python",
   "nbconvert_exporter": "python",
   "pygments_lexer": "ipython3",
   "version": "3.11.8"
  }
 },
 "nbformat": 4,
 "nbformat_minor": 2
}
