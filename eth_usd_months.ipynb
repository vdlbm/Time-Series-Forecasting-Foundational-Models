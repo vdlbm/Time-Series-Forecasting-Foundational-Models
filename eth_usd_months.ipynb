{
 "cells": [
  {
   "cell_type": "code",
   "execution_count": 1,
   "metadata": {},
   "outputs": [],
   "source": [
    "import pandas as pd\n",
    "import numpy as np\n",
    "import matplotlib.pyplot as plt\n",
    "import my_data_frequency_conversor as dfc\n",
    "import my_models as mm\n",
    "import my_llm_ts_preprocessor as tsp\n",
    "#import my_prompting_tool as mpt \n",
    "\n",
    "from statsmodels.tsa.holtwinters import SimpleExpSmoothing \n",
    "from statsmodels.tsa.holtwinters import ExponentialSmoothing\n",
    "from statsmodels.tsa.holtwinters import Holt\n",
    "\n",
    "from nixtla import NixtlaClient\n",
    "from dotenv import load_dotenv\n",
    "import os\n",
    "\n",
    "load_dotenv()  # Carga el .env\n",
    "\n",
    "from itertools import islice\n",
    "import matplotlib.dates as mdates\n",
    "import torch\n",
    "from gluonts.evaluation import make_evaluation_predictions, Evaluator\n",
    "from gluonts.dataset.pandas import PandasDataset\n",
    "\n",
    "import sys\n",
    "from types import ModuleType\n",
    "\n",
    "from gluonts.dataset.pandas import PandasDataset\n",
    "from gluonts.dataset.split import split\n"
   ]
  },
  {
   "cell_type": "code",
   "execution_count": 2,
   "metadata": {},
   "outputs": [],
   "source": [
    "DATA_HOURS = 'DATA/ETHUSD-H1.csv'\n",
    "DATA_DAYS = 'DATA/ETHUSD-D1.csv'\n",
    "DATA_MONTHS = 'DATA/ETHUSD-Monthly.csv'\n",
    "arima_h = mm.Model('ARIMA')\n",
    "arima_d = mm.Model('ARIMA-d')\n",
    "arima_m = mm.Model('ARIMA-m')\n",
    "exp_smooth_h = mm.Model('EXPONENTIAL SMOOTHING')\n",
    "exp_smooth_d = mm.Model('EXPONENTIAL SMOOTHING')\n",
    "exp_smooth_m = mm.Model('EXPONENTIAL SMOOTHING')\n",
    "holt_h = mm.Model('HOLT')\n",
    "holt_d = mm.Model('HOLT')\n",
    "holt_m = mm.Model('HOLT')\n",
    "holt_winters_h = mm.Model('HOLT WINTERS')\n",
    "holt_winters_d = mm.Model('HOLT WINTERS')\n",
    "holt_winters_m = mm.Model('HOLT WINTERS')\n",
    "timegpt_h = mm.Model('TIMEGPT')\n",
    "timegpt_d = mm.Model('TIMEGPT')\n",
    "timegpt_m = mm.Model('TIMEGPT')\n",
    "lagllama_h = mm.Model('LAGLLAMA')\n",
    "lagllama_d = mm.Model('LAGLLAMA')\n",
    "lagllama_m = mm.Model('LAGLLAMA')\n",
    "gpt_h = mm.Model('GPT-H')\n",
    "gpt_d = mm.Model('GPT-D')\n",
    "gpt_m = mm.Model('GPT-M')\n"
   ]
  },
  {
   "cell_type": "code",
   "execution_count": 3,
   "metadata": {},
   "outputs": [
    {
     "name": "stdout",
     "output_type": "stream",
     "text": [
      "                          y\n",
      "DateTime                   \n",
      "2017-01-01 00:00:00  8.0441\n",
      "2017-01-01 01:00:00  8.1990\n",
      "2017-01-01 02:00:00  8.2600\n",
      "2017-01-01 03:00:00  8.4230\n",
      "2017-01-01 04:00:00  8.5700\n",
      "                          y\n",
      "DateTime                   \n",
      "2024-01-01 00:00:00  2286.5\n",
      "2024-01-01 01:00:00  2295.6\n",
      "2024-01-01 02:00:00  2305.4\n",
      "2024-01-01 03:00:00  2295.8\n",
      "2024-01-01 04:00:00  2275.4\n"
     ]
    }
   ],
   "source": [
    "df = pd.read_csv(DATA_HOURS, delimiter=',')\n",
    "train_data_hours, val_data_hours = dfc.split_data(df)\n",
    "train_data_hours = train_data_hours.asfreq('h')\n",
    "val_data_hours = val_data_hours.asfreq('h')\n",
    "print(train_data_hours.head())\n",
    "print(val_data_hours.head())"
   ]
  },
  {
   "cell_type": "code",
   "execution_count": null,
   "metadata": {},
   "outputs": [],
   "source": [
    "# Crear una serie de ejemplo\n",
    "series = [0.123, 1.23, 12.3, 123.0, 1000.0]\n",
    "\n",
    "# Instanciar el preprocesador\n",
    "preprocessor = tsp.TimeSeriesPreprocessor(percentile=95)\n",
    "\n",
    "# Procesar la serie\n",
    "processed_series = preprocessor.preprocess(series)\n",
    "\n",
    "print(processed_series)\n"
   ]
  },
  {
   "cell_type": "code",
   "execution_count": 4,
   "metadata": {},
   "outputs": [
    {
     "name": "stdout",
     "output_type": "stream",
     "text": [
      "                  y\n",
      "DateTime           \n",
      "2017-01-01   8.0441\n",
      "2017-01-02   8.2200\n",
      "2017-01-03   8.3700\n",
      "2017-01-04   9.6620\n",
      "2017-01-05  11.0620\n",
      "                 y\n",
      "DateTime          \n",
      "2024-01-01  2286.5\n",
      "2024-01-02  2352.7\n",
      "2024-01-03  2358.2\n",
      "2024-01-04  2211.3\n",
      "2024-01-05  2271.0\n"
     ]
    }
   ],
   "source": [
    "df = pd.read_csv(DATA_DAYS, delimiter=',')\n",
    "train_data_days, val_data_days = dfc.split_data(df)\n",
    "train_data_days = train_data_days.asfreq('d')\n",
    "val_data_days = val_data_days.asfreq('d')\n",
    "print(train_data_days.head())\n",
    "print(val_data_days.head())"
   ]
  },
  {
   "cell_type": "code",
   "execution_count": 6,
   "metadata": {},
   "outputs": [
    {
     "name": "stdout",
     "output_type": "stream",
     "text": [
      "                  y\n",
      "DateTime           \n",
      "2017-01-01   8.0441\n",
      "2017-02-01  10.7110\n",
      "2017-03-01  15.8300\n",
      "2017-04-01  49.7770\n",
      "2017-05-01  83.5180\n",
      "                 y\n",
      "DateTime          \n",
      "2024-01-01  2286.5\n",
      "2024-02-01  2283.0\n",
      "2024-03-01  3339.2\n",
      "2024-04-01  3650.6\n",
      "2024-05-01  3020.3\n"
     ]
    }
   ],
   "source": [
    "data_months = pd.read_csv(DATA_MONTHS, delimiter=',')\n",
    "train_data_months, val_data_months = dfc.split_data(data_months)\n",
    "train_data_months = train_data_months.asfreq('MS')\n",
    "val_data_months = val_data_months.asfreq('MS')\n",
    "print(train_data_months.head())\n",
    "print(val_data_months.head())"
   ]
  },
  {
   "cell_type": "code",
   "execution_count": 7,
   "metadata": {},
   "outputs": [
    {
     "name": "stderr",
     "output_type": "stream",
     "text": [
      "C:\\Users\\vicde\\AppData\\Local\\Packages\\PythonSoftwareFoundation.Python.3.11_qbz5n2kfra8p0\\LocalCache\\local-packages\\Python311\\site-packages\\tqdm\\auto.py:21: TqdmWarning: IProgress not found. Please update jupyter and ipywidgets. See https://ipywidgets.readthedocs.io/en/stable/user_install.html\n",
      "  from .autonotebook import tqdm as notebook_tqdm\n"
     ]
    }
   ],
   "source": [
    "from statsforecast import StatsForecast\n",
    "from statsforecast.models import AutoARIMA"
   ]
  },
  {
   "cell_type": "code",
   "execution_count": 8,
   "metadata": {},
   "outputs": [
    {
     "name": "stdout",
     "output_type": "stream",
     "text": [
      "          ds        y unique_id\n",
      "0 2017-01-01   8.0441     Value\n",
      "1 2017-02-01  10.7110     Value\n",
      "2 2017-03-01  15.8300     Value\n",
      "3 2017-04-01  49.7770     Value\n",
      "4 2017-05-01  83.5180     Value\n",
      "   unique_id         ds    AutoARIMA  AutoARIMA-lo-95  AutoARIMA-hi-95\n",
      "0      Value 2024-01-01  2118.434494      1459.715885      2777.153102\n",
      "1      Value 2024-02-01  2068.879419      1048.524667      3089.234171\n",
      "2      Value 2024-03-01  2106.237361       875.386223      3337.088500\n",
      "3      Value 2024-04-01  2078.074436       633.132789      3523.016084\n",
      "4      Value 2024-05-01  2099.305540       491.443124      3707.167956\n",
      "5      Value 2024-06-01  2083.300108       311.575957      3855.024260\n",
      "6      Value 2024-07-01  2095.366077       184.874714      4005.857441\n",
      "7      Value 2024-08-01  2086.269940        38.572595      4133.967285\n",
      "8      Value 2024-09-01  2093.127219       -77.552234      4263.806673\n",
      "9      Value 2024-10-01  2087.957742      -203.090765      4379.006248\n",
      "10     Value 2024-11-01  2091.854841      -310.676205      4494.385886\n",
      "11     Value 2024-12-01  2088.916946      -422.217389      4600.051281\n"
     ]
    }
   ],
   "source": [
    "# Convertir la serie en DataFrame con las columnas correctas\n",
    "arima_m.nixtla_format = dfc.convert_to_nixtla(train_data_months)\n",
    "print(arima_m.nixtla_format.head())\n",
    "arima_m.model = StatsForecast(\n",
    "    models=[AutoARIMA(season_length=1)],\n",
    "    freq='MS'\n",
    ")\n",
    "\n",
    "arima_m.model.fit(arima_m.nixtla_format)\n",
    "arima_m.forecast = arima_m.model.predict(h=12, level=[95])\n",
    "print(arima_m.forecast)"
   ]
  },
  {
   "cell_type": "code",
   "execution_count": 9,
   "metadata": {},
   "outputs": [
    {
     "data": {
      "image/png": "[encoded data removed]",
      "text/plain": [
       "<Figure size 1200x600 with 1 Axes>"
      ]
     },
     "metadata": {},
     "output_type": "display_data"
    }
   ],
   "source": [
    "# Plot ARIMA forecast against the actual data with the confidence intervals\n",
    "train_df = train_data_months.reset_index().iloc[:, :2]  # Solo tomar las dos primeras columnas\n",
    "train_df.columns = ['ds', 'y']\n",
    "train_df['type'] = 'Train'\n",
    "\n",
    "val_df = val_data_months.reset_index().iloc[:, :2]  # Solo tomar las dos primeras columnas\n",
    "val_df.columns = ['ds', 'y']  # Renombrar columnas\n",
    "val_df['type'] = 'Validation'\n",
    "\n",
    "# Concatenar los datos de entrenamiento y validación para graficar\n",
    "all_data = pd.concat([train_df, val_df])\n",
    "\n",
    "# Graficar los datos de entrenamiento y validación\n",
    "plt.figure(figsize=(12, 6))\n",
    "plt.plot(all_data['ds'], all_data['y'], label='Datos Reales', color='blue')\n",
    "\n",
    "# Graficar las predicciones\n",
    "plt.plot(arima_m.forecast['ds'], arima_m.forecast['AutoARIMA'], label='Predicciones', color='red')\n",
    "\n",
    "# Graficar el intervalo de confianza\n",
    "plt.fill_between(\n",
    "    arima_m.forecast['ds'],\n",
    "    arima_m.forecast['AutoARIMA-lo-95'],\n",
    "    arima_m.forecast['AutoARIMA-hi-95'],\n",
    "    color='pink',\n",
    "    alpha=0.3,\n",
    "    label='Intervalo de Confianza 95%'\n",
    ")\n",
    "\n",
    "# Añadir leyenda y etiquetas\n",
    "plt.legend()\n",
    "plt.title('Predicciones vs Datos Reales')\n",
    "plt.xlabel('Fecha')\n",
    "plt.ylabel('Open')\n",
    "\n",
    "# Mostrar la gráfica\n",
    "plt.show()"
   ]
  },
  {
   "cell_type": "code",
   "execution_count": 10,
   "metadata": {},
   "outputs": [
    {
     "name": "stdout",
     "output_type": "stream",
     "text": [
      "          ds        y unique_id\n",
      "0 2017-01-01   8.0441     Value\n",
      "1 2017-01-02   8.2200     Value\n",
      "2 2017-01-03   8.3700     Value\n",
      "3 2017-01-04   9.6620     Value\n",
      "4 2017-01-05  11.0620     Value\n",
      "    unique_id         ds    AutoARIMA  AutoARIMA-lo-95  AutoARIMA-hi-95\n",
      "0       Value 2024-01-01  2291.784091      2154.248884      2429.319299\n",
      "1       Value 2024-01-02  2283.363944      2095.214554      2471.513333\n",
      "2       Value 2024-01-03  2289.051766      2059.372917      2518.730615\n",
      "3       Value 2024-01-04  2293.848950      2025.794967      2561.902933\n",
      "4       Value 2024-01-05  2286.753237      1987.780438      2585.726037\n",
      "..        ...        ...          ...              ...              ...\n",
      "361     Value 2024-12-27  2288.983658      -246.677695      4824.645010\n",
      "362     Value 2024-12-28  2288.983658      -250.177414      4828.144730\n",
      "363     Value 2024-12-29  2288.983658      -253.672316      4831.639632\n",
      "364     Value 2024-12-30  2288.983658      -257.162421      4835.129737\n",
      "365     Value 2024-12-31  2288.983658      -260.647749      4838.615064\n",
      "\n",
      "[366 rows x 5 columns]\n"
     ]
    }
   ],
   "source": [
    "arima_d.nixtla_format = dfc.convert_to_nixtla(train_data_days)\n",
    "print(arima_d.nixtla_format.head())\n",
    "arima_d.model = StatsForecast(\n",
    "    models=[AutoARIMA(season_length=1)],\n",
    "    freq='D'\n",
    ")\n",
    "'''\n",
    "season_length=7:Se asume que hay un patrón semanal en los datos diarios. \n",
    "Si no es el caso, puedes cambiarlo a 1 (sin estacionalidad) o 365 (estacionalidad anual).\n",
    "'''\n",
    "arima_d.model.fit(arima_d.nixtla_format)\n",
    "arima_d.forecast = arima_d.model.predict(h=366, level=[95])\n",
    "print(arima_d.forecast)"
   ]
  },
  {
   "cell_type": "code",
   "execution_count": null,
   "metadata": {},
   "outputs": [],
   "source": [
    "# Plot ARIMA forecast against the actual data with the confidence intervals\n",
    "train_df = train_data_days.reset_index().iloc[:, :2]  # Solo tomar las dos primeras columnas\n",
    "train_df.columns = ['ds', 'y']\n",
    "train_df['type'] = 'Train'\n",
    "\n",
    "val_df = val_data_days.reset_index().iloc[:, :2]  # Solo tomar las dos primeras columnas\n",
    "val_df.columns = ['ds', 'y']  # Renombrar columnas\n",
    "val_df['type'] = 'Validation'\n",
    "\n",
    "# Concatenar los datos de entrenamiento y validación para graficar\n",
    "all_data = pd.concat([train_df, val_df])\n",
    "\n",
    "# Graficar los datos de entrenamiento y validación\n",
    "plt.figure(figsize=(12, 6))\n",
    "plt.plot(all_data['ds'], all_data['y'], label='Datos Reales', color='blue')\n",
    "\n",
    "# Graficar las predicciones\n",
    "plt.plot(arima_d.forecast['ds'], arima_d.forecast['AutoARIMA'], label='Predicciones', color='red')\n",
    "\n",
    "# Graficar el intervalo de confianza\n",
    "plt.fill_between(\n",
    "    arima_d.forecast['ds'],\n",
    "    arima_d.forecast['AutoARIMA-lo-95'],\n",
    "    arima_d.forecast['AutoARIMA-hi-95'],\n",
    "    color='pink',\n",
    "    alpha=0.3,\n",
    "    label='Intervalo de Confianza 95%'\n",
    ")\n",
    "\n",
    "# Añadir leyenda y etiquetas\n",
    "plt.legend()\n",
    "plt.title('Predicciones vs Datos Reales')\n",
    "plt.xlabel('Fecha')\n",
    "plt.ylabel('Open')\n",
    "\n",
    "# Mostrar la gráfica\n",
    "plt.show()"
   ]
  },
  {
   "cell_type": "code",
   "execution_count": null,
   "metadata": {},
   "outputs": [],
   "source": [
    "arima_h.nixtla_format = dfc.convert_to_nixtla(train_data_hours)\n",
    "print(arima_h.nixtla_format.head())\n",
    "arima_h.model = StatsForecast(\n",
    "    models=[AutoARIMA(season_length=24)],\n",
    "    freq='H'\n",
    ")\n",
    "'''\n",
    "season_length=24: Se asume que hay un patrón diario en los datos horarios.\n",
    "Si no es el caso, puedes cambiarlo a 1 (sin estacionalidad) o 168 (estacionalidad semanal).\n",
    "'''\n",
    "arima_h.model.fit(arima_h.nixtla_format)\n",
    "arima_h.forecast = arima_h.model.predict(h=24*366, level=[95])\n",
    "print(arima_h.forecast.head())"
   ]
  },
  {
   "cell_type": "code",
   "execution_count": null,
   "metadata": {},
   "outputs": [],
   "source": [
    "# Plot ARIMA forecast against the actual data with the confidence intervals\n",
    "train_df = train_data_hours.reset_index().iloc[:, :2]  # Solo tomar las dos primeras columnas\n",
    "train_df.columns = ['ds', 'y']\n",
    "train_df['type'] = 'Train'\n",
    "\n",
    "val_df = val_data_hours.reset_index().iloc[:, :2]  # Solo tomar las dos primeras columnas\n",
    "val_df.columns = ['ds', 'y']  # Renombrar columnas\n",
    "val_df['type'] = 'Validation'\n",
    "\n",
    "# Concatenar los datos de entrenamiento y validación para graficar\n",
    "all_data = pd.concat([train_df, val_df])\n",
    "\n",
    "# Graficar los datos de entrenamiento y validación\n",
    "plt.figure(figsize=(12, 6))\n",
    "plt.plot(all_data['ds'], all_data['y'], label='Datos Reales', color='blue')\n",
    "\n",
    "# Graficar las predicciones\n",
    "plt.plot(arima_h.forecast['ds'], arima_h.forecast['AutoARIMA'], label='Predicciones', color='red')\n",
    "\n",
    "# Graficar el intervalo de confianza\n",
    "plt.fill_between(\n",
    "    arima_h.forecast['ds'],\n",
    "    arima_h.forecast['AutoARIMA-lo-95'],\n",
    "    arima_h.forecast['AutoARIMA-hi-95'],\n",
    "    color='pink',\n",
    "    alpha=0.3,\n",
    "    label='Intervalo de Confianza 95%'\n",
    ")\n",
    "\n",
    "# Añadir leyenda y etiquetas\n",
    "plt.legend()\n",
    "plt.title('Predicciones vs Datos Reales')\n",
    "plt.xlabel('Fecha')\n",
    "plt.ylabel('Open')\n",
    "\n",
    "# Mostrar la gráfica\n",
    "plt.show()"
   ]
  },
  {
   "cell_type": "code",
   "execution_count": 11,
   "metadata": {},
   "outputs": [
    {
     "name": "stdout",
     "output_type": "stream",
     "text": [
      "Alpha óptimo: 0.9950\n"
     ]
    },
    {
     "data": {
      "text/plain": [
       "2024-01-01    2051.5119\n",
       "2024-02-01    2051.5119\n",
       "2024-03-01    2051.5119\n",
       "2024-04-01    2051.5119\n",
       "2024-05-01    2051.5119\n",
       "2024-06-01    2051.5119\n",
       "2024-07-01    2051.5119\n",
       "2024-08-01    2051.5119\n",
       "2024-09-01    2051.5119\n",
       "2024-10-01    2051.5119\n",
       "2024-11-01    2051.5119\n",
       "2024-12-01    2051.5119\n",
       "Freq: MS, dtype: float64"
      ]
     },
     "execution_count": 11,
     "metadata": {},
     "output_type": "execute_result"
    }
   ],
   "source": [
    "# Ajustar el modelo con cálculo óptimo de alpha\n",
    "exp_smooth_m.model = SimpleExpSmoothing(train_data_months).fit(optimized=True)\n",
    "\n",
    "# Obtener el alpha óptimo\n",
    "exp_smooth_m.optimal_alpha = exp_smooth_m.model.model.params[\"smoothing_level\"]\n",
    "print(f\"Alpha óptimo: {exp_smooth_m.optimal_alpha:.4f}\")\n",
    "\n",
    "# Predicción a futuro (próximo año)\n",
    "exp_smooth_m.forecast = exp_smooth_m.model.forecast(steps=12)\n",
    "exp_smooth_m.forecast\n"
   ]
  },
  {
   "cell_type": "code",
   "execution_count": 12,
   "metadata": {},
   "outputs": [
    {
     "name": "stdout",
     "output_type": "stream",
     "text": [
      "Alpha óptimo: 0.9144\n"
     ]
    },
    {
     "data": {
      "text/plain": [
       "2024-01-01    2294.844292\n",
       "2024-01-02    2294.844292\n",
       "2024-01-03    2294.844292\n",
       "2024-01-04    2294.844292\n",
       "2024-01-05    2294.844292\n",
       "                 ...     \n",
       "2024-12-27    2294.844292\n",
       "2024-12-28    2294.844292\n",
       "2024-12-29    2294.844292\n",
       "2024-12-30    2294.844292\n",
       "2024-12-31    2294.844292\n",
       "Freq: D, Length: 366, dtype: float64"
      ]
     },
     "execution_count": 12,
     "metadata": {},
     "output_type": "execute_result"
    }
   ],
   "source": [
    "# Ajustar el modelo con cálculo óptimo de alpha\n",
    "exp_smooth_d.model = SimpleExpSmoothing(train_data_days).fit(optimized=True)\n",
    "\n",
    "# Obtener el alpha óptimo\n",
    "exp_smooth_d.optimal_alpha = exp_smooth_d.model.model.params[\"smoothing_level\"]\n",
    "print(f\"Alpha óptimo: {exp_smooth_d.optimal_alpha:.4f}\")\n",
    "\n",
    "# Predicción a futuro (próximo año)\n",
    "exp_smooth_d.forecast = exp_smooth_d.model.forecast(steps=366)\n",
    "exp_smooth_d.forecast"
   ]
  },
  {
   "cell_type": "code",
   "execution_count": 17,
   "metadata": {},
   "outputs": [
    {
     "name": "stdout",
     "output_type": "stream",
     "text": [
      "Alpha óptimo: 0.0050\n"
     ]
    },
    {
     "name": "stderr",
     "output_type": "stream",
     "text": [
      "C:\\Users\\vicde\\AppData\\Local\\Packages\\PythonSoftwareFoundation.Python.3.11_qbz5n2kfra8p0\\LocalCache\\local-packages\\Python311\\site-packages\\statsmodels\\tsa\\holtwinters\\model.py:918: ConvergenceWarning: Optimization failed to converge. Check mle_retvals.\n",
      "  warnings.warn(\n"
     ]
    },
    {
     "data": {
      "text/plain": [
       "2024-01-01 00:00:00   NaN\n",
       "2024-01-01 01:00:00   NaN\n",
       "2024-01-01 02:00:00   NaN\n",
       "2024-01-01 03:00:00   NaN\n",
       "2024-01-01 04:00:00   NaN\n",
       "                       ..\n",
       "2024-12-31 19:00:00   NaN\n",
       "2024-12-31 20:00:00   NaN\n",
       "2024-12-31 21:00:00   NaN\n",
       "2024-12-31 22:00:00   NaN\n",
       "2024-12-31 23:00:00   NaN\n",
       "Freq: h, Length: 8784, dtype: float64"
      ]
     },
     "execution_count": 17,
     "metadata": {},
     "output_type": "execute_result"
    }
   ],
   "source": [
    "# Ajustar el modelo con cálculo óptimo de alpha\n",
    "exp_smooth_h.model = SimpleExpSmoothing(train_data_hours).fit(optimized=True)\n",
    "\n",
    "# Obtener el alpha óptimo\n",
    "exp_smooth_h.optimal_alpha = exp_smooth_h.model.model.params[\"smoothing_level\"]\n",
    "print(f\"Alpha óptimo: {exp_smooth_h.optimal_alpha:.4f}\")\n",
    "\n",
    "# Predicción a futuro (próximo año)\n",
    "exp_smooth_h.forecast = exp_smooth_h.model.forecast(steps=366*24)\n",
    "exp_smooth_h.forecast"
   ]
  },
  {
   "cell_type": "code",
   "execution_count": 20,
   "metadata": {},
   "outputs": [
    {
     "name": "stdout",
     "output_type": "stream",
     "text": [
      "Alpha óptimo: 0.9950\n",
      "Beta óptimo: 0.0001\n"
     ]
    },
    {
     "data": {
      "text/plain": [
       "2024-01-01    2054.374145\n",
       "2024-02-01    2057.222197\n",
       "2024-03-01    2060.070248\n",
       "2024-04-01    2062.918300\n",
       "2024-05-01    2065.766351\n",
       "2024-06-01    2068.614402\n",
       "2024-07-01    2071.462454\n",
       "2024-08-01    2074.310505\n",
       "2024-09-01    2077.158557\n",
       "2024-10-01    2080.006608\n",
       "2024-11-01    2082.854660\n",
       "2024-12-01    2085.702711\n",
       "Freq: MS, dtype: float64"
      ]
     },
     "execution_count": 20,
     "metadata": {},
     "output_type": "execute_result"
    }
   ],
   "source": [
    "holt_m.model = Holt(train_data_months).fit(optimized=True)\n",
    "holt_m.optimal_alpha = holt_m.model.model.params[\"smoothing_level\"]\n",
    "holt_m.optimal_beta = holt_m.model.model.params[\"smoothing_trend\"]\n",
    "print(f\"Alpha óptimo: {holt_m.optimal_alpha:.4f}\")\n",
    "print(f\"Beta óptimo: {holt_m.optimal_beta:.4f}\")\n",
    "holt_m.forecast = holt_m.model.forecast(steps=12)\n",
    "holt_m.forecast"
   ]
  },
  {
   "cell_type": "code",
   "execution_count": 21,
   "metadata": {},
   "outputs": [
    {
     "name": "stdout",
     "output_type": "stream",
     "text": [
      "Alpha óptimo: 0.9243\n",
      "Beta óptimo: 0.0001\n"
     ]
    },
    {
     "data": {
      "text/plain": [
       "2024-01-01    2295.076733\n",
       "2024-01-02    2295.415646\n",
       "2024-01-03    2295.754559\n",
       "2024-01-04    2296.093472\n",
       "2024-01-05    2296.432385\n",
       "                 ...     \n",
       "2024-12-27    2417.424321\n",
       "2024-12-28    2417.763234\n",
       "2024-12-29    2418.102147\n",
       "2024-12-30    2418.441060\n",
       "2024-12-31    2418.779973\n",
       "Freq: D, Length: 366, dtype: float64"
      ]
     },
     "execution_count": 21,
     "metadata": {},
     "output_type": "execute_result"
    }
   ],
   "source": [
    "holt_d.model = Holt(train_data_days).fit(optimized=True)\n",
    "holt_d.optimal_alpha = holt_d.model.model.params[\"smoothing_level\"]\n",
    "holt_d.optimal_beta = holt_d.model.model.params[\"smoothing_trend\"]\n",
    "print(f\"Alpha óptimo: {holt_d.optimal_alpha:.4f}\")\n",
    "print(f\"Beta óptimo: {holt_d.optimal_beta:.4f}\")\n",
    "holt_d.forecast = holt_d.model.forecast(steps=366)\n",
    "holt_d.forecast"
   ]
  },
  {
   "cell_type": "code",
   "execution_count": null,
   "metadata": {},
   "outputs": [
    {
     "name": "stderr",
     "output_type": "stream",
     "text": [
      "C:\\Users\\vicde\\AppData\\Local\\Packages\\PythonSoftwareFoundation.Python.3.11_qbz5n2kfra8p0\\LocalCache\\local-packages\\Python311\\site-packages\\statsmodels\\tsa\\holtwinters\\model.py:918: ConvergenceWarning: Optimization failed to converge. Check mle_retvals.\n",
      "  warnings.warn(\n"
     ]
    },
    {
     "name": "stdout",
     "output_type": "stream",
     "text": [
      "Alpha óptimo: 0.0050\n",
      "Beta óptimo: 0.0001\n"
     ]
    },
    {
     "data": {
      "text/plain": [
       "2024-01-01 00:00:00   NaN\n",
       "2024-01-01 01:00:00   NaN\n",
       "2024-01-01 02:00:00   NaN\n",
       "2024-01-01 03:00:00   NaN\n",
       "2024-01-01 04:00:00   NaN\n",
       "                       ..\n",
       "2024-07-01 19:00:00   NaN\n",
       "2024-07-01 20:00:00   NaN\n",
       "2024-07-01 21:00:00   NaN\n",
       "2024-07-01 22:00:00   NaN\n",
       "2024-07-01 23:00:00   NaN\n",
       "Freq: h, Length: 4392, dtype: float64"
      ]
     },
     "execution_count": 22,
     "metadata": {},
     "output_type": "execute_result"
    }
   ],
   "source": [
    "holt_h.model = Holt(train_data_hours).fit(optimized=True)\n",
    "holt_h.optimal_alpha = holt_h.model.model.params[\"smoothing_level\"]\n",
    "holt_h.optimal_beta = holt_h.model.model.params[\"smoothing_trend\"]\n",
    "print(f\"Alpha óptimo: {holt_h.optimal_alpha:.4f}\")\n",
    "print(f\"Beta óptimo: {holt_h.optimal_beta:.4f}\")\n",
    "holt_h.forecast = holt_h.model.forecast(steps=366*24)\n",
    "holt_h.forecast"
   ]
  },
  {
   "cell_type": "code",
   "execution_count": null,
   "metadata": {},
   "outputs": [
    {
     "name": "stdout",
     "output_type": "stream",
     "text": [
      "Parámetros óptimos: {'smoothing_level': np.float64(0.9531544949011956), 'smoothing_trend': np.float64(9.715863929476129e-05), 'smoothing_seasonal': np.float64(0.04488962709956513), 'damping_trend': nan, 'initial_level': np.float64(228.806769693531), 'initial_trend': np.float64(24.969436191881627), 'initial_seasons': array([-1.07224446e+02,  7.89035932e-01,  3.81724920e+01,  8.72355126e+01,\n",
      "        1.81529743e+02,  9.68039089e+01, -6.87387157e+01, -6.72957207e+00,\n",
      "       -1.19792932e-01, -1.86099946e+02, -3.42306428e+01, -2.43362019e+01]), 'use_boxcox': False, 'lamda': None, 'remove_bias': False}\n"
     ]
    },
    {
     "data": {
      "text/plain": [
       "2024-01-01    1961.781654\n",
       "2024-02-01    2091.732675\n",
       "2024-03-01    2166.318589\n",
       "2024-04-01    2253.874580\n",
       "2024-05-01    2361.319264\n",
       "2024-06-01    2296.214173\n",
       "2024-07-01    2155.347979\n",
       "2024-08-01    2265.309628\n",
       "2024-09-01    2303.505768\n",
       "2024-10-01    2141.107617\n",
       "2024-11-01    2327.743425\n",
       "2024-12-01    2341.582772\n",
       "Freq: MS, dtype: float64"
      ]
     },
     "execution_count": 23,
     "metadata": {},
     "output_type": "execute_result"
    }
   ],
   "source": [
    "# Ajustar el modelo con cálculo óptimo de alpha\n",
    "holt_winters_m.model = ExponentialSmoothing(train_data_months, trend='add', seasonal='add', seasonal_periods=12).fit(optimized=True)\n",
    "\n",
    "# Obtener el alpha óptimo\n",
    "holt_winters_m.optimal_params = holt_winters_m.model.params\n",
    "print(f\"Parámetros óptimos: {holt_winters_m.optimal_params}\")\n",
    "\n",
    "# Predicción a futuro (próximo año)\n",
    "holt_winters_m.forecast = holt_winters_m.model.forecast(steps=12)\n",
    "holt_winters_m.forecast"
   ]
  },
  {
   "cell_type": "code",
   "execution_count": 24,
   "metadata": {},
   "outputs": [
    {
     "name": "stdout",
     "output_type": "stream",
     "text": [
      "Parámetros óptimos: {'smoothing_level': np.float64(0.9243190614721085), 'smoothing_trend': np.float64(0.0005070616810961892), 'smoothing_seasonal': np.float64(0.0001332444381837608), 'damping_trend': nan, 'initial_level': np.float64(9.729785914096503), 'initial_trend': np.float64(1.7946556893570222), 'initial_seasons': array([ 0.13938775,  0.65885702, -0.54543647, -0.29469686,  2.1153385 ,\n",
      "       -0.35337625, -1.72161521]), 'use_boxcox': False, 'lamda': None, 'remove_bias': False}\n"
     ]
    },
    {
     "data": {
      "text/plain": [
       "2024-01-01    2296.634888\n",
       "2024-01-02    2296.543241\n",
       "2024-01-03    2297.959314\n",
       "2024-01-04    2301.501419\n",
       "2024-01-05    2300.089288\n",
       "                 ...     \n",
       "2024-12-27    2709.826443\n",
       "2024-12-28    2709.605888\n",
       "2024-12-29    2712.714396\n",
       "2024-12-30    2714.406106\n",
       "2024-12-31    2714.314458\n",
       "Freq: D, Length: 366, dtype: float64"
      ]
     },
     "execution_count": 24,
     "metadata": {},
     "output_type": "execute_result"
    }
   ],
   "source": [
    "# Ajustar el modelo con cálculo óptimo de alpha, seasonal period de 7 para intentar calcular una ciclidad semanal\n",
    "holt_winters_d.model = ExponentialSmoothing(train_data_days, trend='add', seasonal='add', seasonal_periods=7).fit(optimized=True)\n",
    "\n",
    "# Obtener el alpha óptimo\n",
    "holt_winters_d.optimal_params = holt_winters_d.model.params\n",
    "print(f\"Parámetros óptimos: {holt_winters_d.optimal_params}\")\n",
    "\n",
    "# Predicción a futuro (próximo año)\n",
    "holt_winters_d.forecast = holt_winters_d.model.forecast(steps=366)\n",
    "holt_winters_d.forecast\n"
   ]
  },
  {
   "cell_type": "code",
   "execution_count": 25,
   "metadata": {},
   "outputs": [
    {
     "name": "stderr",
     "output_type": "stream",
     "text": [
      "C:\\Users\\vicde\\AppData\\Local\\Packages\\PythonSoftwareFoundation.Python.3.11_qbz5n2kfra8p0\\LocalCache\\local-packages\\Python311\\site-packages\\statsmodels\\tsa\\holtwinters\\model.py:918: ConvergenceWarning: Optimization failed to converge. Check mle_retvals.\n",
      "  warnings.warn(\n"
     ]
    },
    {
     "name": "stdout",
     "output_type": "stream",
     "text": [
      "Parámetros óptimos: {'smoothing_level': np.float64(0.005), 'smoothing_trend': np.float64(0.0001), 'smoothing_seasonal': np.float64(0.0001), 'damping_trend': nan, 'initial_level': np.float64(8.324556805555552), 'initial_trend': np.float64(-0.007892449494948939), 'initial_seasons': array([-0.04828325, -0.05043533,  0.05800842,  0.08509592,  0.14950582,\n",
      "        0.15966102,  0.12440425,  0.13721155,  0.09941415,  0.07535009,\n",
      "       -0.15397127, -0.07635356, -0.12913168, -0.1131145 , -0.10689991,\n",
      "       -0.16902491,  0.0525605 ,  0.02535946,  0.04299175,  0.06854696,\n",
      "        0.03257873, -0.10598429, -0.11805616, -0.03943377]), 'use_boxcox': False, 'lamda': None, 'remove_bias': False}\n"
     ]
    },
    {
     "data": {
      "text/plain": [
       "2024-01-01 00:00:00   NaN\n",
       "2024-01-01 01:00:00   NaN\n",
       "2024-01-01 02:00:00   NaN\n",
       "2024-01-01 03:00:00   NaN\n",
       "2024-01-01 04:00:00   NaN\n",
       "                       ..\n",
       "2024-12-31 19:00:00   NaN\n",
       "2024-12-31 20:00:00   NaN\n",
       "2024-12-31 21:00:00   NaN\n",
       "2024-12-31 22:00:00   NaN\n",
       "2024-12-31 23:00:00   NaN\n",
       "Freq: h, Length: 8784, dtype: float64"
      ]
     },
     "execution_count": 25,
     "metadata": {},
     "output_type": "execute_result"
    }
   ],
   "source": [
    "# Ajustar el modelo con cálculo óptimo de alpha, seasonal period de 24 para intentar calcular una ciclidad diaria\n",
    "holt_winters_h.model = ExponentialSmoothing(train_data_hours, trend='add', seasonal='add', seasonal_periods=24).fit(optimized=True)\n",
    "\n",
    "# Obtener el alpha óptimo\n",
    "holt_winters_h.optimal_params = holt_winters_h.model.params\n",
    "print(f\"Parámetros óptimos: {holt_winters_h.optimal_params}\")\n",
    "\n",
    "# Predicción a futuro (próximo año)\n",
    "holt_winters_h.forecast = holt_winters_h.model.forecast(steps=366*24)\n",
    "holt_winters_h.forecast"
   ]
  },
  {
   "cell_type": "code",
   "execution_count": null,
   "metadata": {},
   "outputs": [],
   "source": [
    "my_api_key = os.getenv(\"MY_NIXTLA_API_KEY\")"
   ]
  },
  {
   "cell_type": "code",
   "execution_count": null,
   "metadata": {},
   "outputs": [],
   "source": [
    "nixtla_client = NixtlaClient(\n",
    "    api_key = my_api_key\n",
    ")\n",
    "nixtla_client.validate_api_key()\n",
    "\n",
    "timegpt_m.predictions = nixtla_client.predict(\n",
    "    df=train_data_months,\n",
    "    horizon=12,\n",
    "    time_col='DateTime',\n",
    "    target_col='Open',\n",
    ")\n",
    "\n",
    "timegpt_d.predictions = nixtla_client.predict(\n",
    "    df=train_data_days,\n",
    "    horizon=366,\n",
    "    time_col='DateTime',\n",
    "    target_col='Open',\n",
    ")\n",
    "\n",
    "timegpt_h.predictions = nixtla_client.predict(\n",
    "    df=train_data_hours,\n",
    "    horizon=366*24,\n",
    "    time_col='DateTime',\n",
    "    target_col='Open',\n",
    ")\n"
   ]
  },
  {
   "cell_type": "code",
   "execution_count": null,
   "metadata": {},
   "outputs": [],
   "source": [
    "#!git clone https://github.com/SalesforceAIResearch/uni2ts/\n",
    "%pip install uni2ts\n",
    "\n"
   ]
  },
  {
   "cell_type": "code",
   "execution_count": null,
   "metadata": {},
   "outputs": [],
   "source": [
    "from uni2ts.eval_util.plot import plot_single\n",
    "from uni2ts.model.moirai import MoiraiForecast, MoiraiModule"
   ]
  },
  {
   "cell_type": "code",
   "execution_count": null,
   "metadata": {},
   "outputs": [],
   "source": [
    "\n",
    "SIZE = \"small\"  # model size: choose from {'small', 'base', 'large'}\n",
    "PDT = 20  # prediction length: any positive integer\n",
    "CTX = 200  # context length: any positive integer\n",
    "PSZ = \"auto\"  # patch size: choose from {\"auto\", 8, 16, 32, 64, 128}\n",
    "BSZ = 32  # batch size: any positive integer\n",
    "TEST = 100  # test set length: any positive integer\n",
    "\n",
    "# Convert into GluonTS dataset\n",
    "ds = PandasDataset(dict(df))\n",
    "\n",
    "# Split into train/test set\n",
    "train, test_template = split(\n",
    "    ds, offset=-TEST\n",
    ")  # assign last TEST time steps as test set\n",
    "\n",
    "# Construct rolling window evaluation\n",
    "test_data = test_template.generate_instances(\n",
    "    prediction_length=PDT,  # number of time steps for each prediction\n",
    "    windows=TEST // PDT,  # number of windows in rolling window evaluation\n",
    "    distance=PDT,  # number of time steps between each window - distance=PDT for non-overlapping windows\n",
    ")\n",
    "\n",
    "# Prepare pre-trained model by downloading model weights from huggingface hub\n",
    "model = MoiraiForecast(\n",
    "    module=MoiraiModule.from_pretrained(f\"Salesforce/moirai-1.0-R-{SIZE}\"),\n",
    "    prediction_length=PDT,\n",
    "    context_length=CTX,\n",
    "    patch_size=PSZ,\n",
    "    num_samples=100,\n",
    "    target_dim=1,\n",
    "    feat_dynamic_real_dim=ds.num_feat_dynamic_real,\n",
    "    past_feat_dynamic_real_dim=ds.num_past_feat_dynamic_real,\n",
    ")\n",
    "\n",
    "predictor = model.create_predictor(batch_size=BSZ)\n",
    "forecasts = predictor.predict(test_data.input)\n",
    "\n",
    "input_it = iter(test_data.input)\n",
    "label_it = iter(test_data.label)\n",
    "forecast_it = iter(forecasts)\n",
    "\n",
    "inp = next(input_it)\n",
    "label = next(label_it)\n",
    "forecast = next(forecast_it)\n",
    "\n",
    "plot_single(\n",
    "    inp, \n",
    "    label, \n",
    "    forecast, \n",
    "    context_length=200,\n",
    "    name=\"pred\",\n",
    "    show_label=True,\n",
    ")\n",
    "plt.show()\n"
   ]
  },
  {
   "cell_type": "code",
   "execution_count": null,
   "metadata": {},
   "outputs": [],
   "source": [
    "# Convertir la serie temporal a lenguaje natural\n",
    "desp = mpt.paraphrase_initial(gpt_m.name)\n",
    "train_lan = mpt.paraphrase_seq2lan(train_data_months, desp)\n",
    "\n",
    "# Realizar la predicción para los próximos 12 meses (1 año)\n",
    "steps = 12  # Número de meses a predecir\n",
    "model_name = 'gpt-4o-mini'  \n",
    "predicted_lan = mpt.paraphrasing_predict_llm(desp, train_lan, steps, model_name)\n",
    "print(predicted_lan)\n",
    "# Convertir la predicción en lenguaje natural de vuelta a una serie temporal\n",
    "predicted_series = mpt.recover_lan2seq(predicted_lan)\n",
    "\n",
    "# Mostrar la serie temporal predicha\n",
    "print(predicted_series)"
   ]
  },
  {
   "cell_type": "code",
   "execution_count": null,
   "metadata": {},
   "outputs": [],
   "source": [
    "from huggingface_hub import login\n",
    "\n",
    "HF_TOKEN = os.getenv(\"HF_TOKEN\")\n",
    "\n",
    "#login(token=HF_TOKEN)\n",
    "\n",
    "\n"
   ]
  },
  {
   "cell_type": "code",
   "execution_count": null,
   "metadata": {},
   "outputs": [],
   "source": [
    "from huggingface_hub import InferenceClient\n",
    "\n",
    "MODEL = \"meta-llama/Llama-2-13b\"\n",
    "client = InferenceClient(model=MODEL, token=HF_TOKEN)\n",
    "\n",
    "prompt = \"¿Qué es el aprendizaje automático?\"\n",
    "response = client.text_generation(prompt, max_new_tokens=200)\n",
    "\n",
    "print(response)\n"
   ]
  }
 ],
 "metadata": {
  "kernelspec": {
   "display_name": "Python 3",
   "language": "python",
   "name": "python3"
  },
  "language_info": {
   "codemirror_mode": {
    "name": "ipython",
    "version": 3
   },
   "file_extension": ".py",
   "mimetype": "text/x-python",
   "name": "python",
   "nbconvert_exporter": "python",
   "pygments_lexer": "ipython3",
   "version": "3.11.8"
  }
 },
 "nbformat": 4,
 "nbformat_minor": 2
}
