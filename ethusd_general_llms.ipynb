{
 "cells": [
  {
   "cell_type": "code",
   "execution_count": 1,
   "metadata": {},
   "outputs": [],
   "source": [
    "import pandas as pd\n",
    "import my_data_frequency_conversor as dfc\n",
    "#import my_models as mm\n",
    "#import my_llm_ts_preprocessor as tsp\n",
    "import my_prompting_tool as mpt "
   ]
  },
  {
   "cell_type": "code",
   "execution_count": 2,
   "metadata": {},
   "outputs": [],
   "source": [
    "# crear un diccionario con clave dataset y valor datos de training\n",
    "datasets = {\n",
    "    'ETH_HOURS':'DATA/ETHUSD-H1.csv',\n",
    "    'ETH_DAYS':'DATA/ETHUSD-D1.csv',\n",
    "    'ETH_MONTHS':'DATA/ETHUSD-Monthly.csv',\n",
    "    \n",
    "}\n",
    "freqs = {\n",
    "    'ETH_HOURS':'h',\n",
    "    'ETH_DAYS':'d',\n",
    "    'ETH_MONTHS':'MS'\n",
    "}\n",
    "train_data = {}\n",
    "val_data = {}"
   ]
  },
  {
   "cell_type": "code",
   "execution_count": 3,
   "metadata": {},
   "outputs": [
    {
     "name": "stdout",
     "output_type": "stream",
     "text": [
      "ETH_HOURS train data shape: (26280, 1)\n",
      "                           y\n",
      "DateTime                    \n",
      "2021-01-01 00:00:00  736.220\n",
      "2021-01-01 01:00:00  733.981\n",
      "2021-01-01 02:00:00  748.970\n",
      "2021-01-01 03:00:00  744.460\n",
      "2021-01-01 04:00:00  745.960\n",
      "ETH_HOURS val data shape: (8784, 1)\n",
      "                          y\n",
      "DateTime                   \n",
      "2024-01-01 00:00:00  2286.5\n",
      "2024-01-01 01:00:00  2295.6\n",
      "2024-01-01 02:00:00  2305.4\n",
      "2024-01-01 03:00:00  2295.8\n",
      "2024-01-01 04:00:00  2275.4\n",
      "ETH_DAYS train data shape: (1095, 1)\n",
      "                  y\n",
      "DateTime           \n",
      "2021-01-01   736.22\n",
      "2021-01-02   729.46\n",
      "2021-01-03   774.82\n",
      "2021-01-04   976.32\n",
      "2021-01-05  1041.20\n",
      "ETH_DAYS val data shape: (366, 1)\n",
      "                 y\n",
      "DateTime          \n",
      "2024-01-01  2286.5\n",
      "2024-01-02  2352.7\n",
      "2024-01-03  2358.2\n",
      "2024-01-04  2211.3\n",
      "2024-01-05  2271.0\n",
      "ETH_MONTHS train data shape: (36, 1)\n",
      "                   y\n",
      "DateTime            \n",
      "2021-01-01   736.220\n",
      "2021-02-01  1313.869\n",
      "2021-03-01  1424.400\n",
      "2021-04-01  1919.300\n",
      "2021-05-01  2769.400\n",
      "ETH_MONTHS val data shape: (12, 1)\n",
      "                 y\n",
      "DateTime          \n",
      "2024-01-01  2286.5\n",
      "2024-02-01  2283.0\n",
      "2024-03-01  3339.2\n",
      "2024-04-01  3650.6\n",
      "2024-05-01  3020.3\n"
     ]
    }
   ],
   "source": [
    "# Itera sobre cada conjunto de datos en el diccionario 'datasets'\n",
    "for ds_name in datasets:  \n",
    "    # Carga el archivo CSV correspondiente en un DataFrame de pandas\n",
    "    df = pd.read_csv(datasets[ds_name])  \n",
    "    \n",
    "    # Divide los datos en entrenamiento y validación usando la función split_data de dfc\n",
    "    train_data[ds_name], val_data[ds_name] = dfc.split_data(df)  \n",
    "    \n",
    "    # Ajusta la frecuencia de los datos de entrenamiento según el diccionario 'freqs'\n",
    "    train_data[ds_name] = train_data[ds_name].asfreq(freqs[ds_name])  \n",
    "    \n",
    "    # Ajusta la frecuencia de los datos de validación según el diccionario 'freqs'\n",
    "    val_data[ds_name] = val_data[ds_name].asfreq(freqs[ds_name])  \n",
    "    \n",
    "    # Redondea los valores de los datos de entrenamiento a 3 decimales\n",
    "    train_data[ds_name] = train_data[ds_name].round(3)  \n",
    "    \n",
    "    # Redondea los valores de los datos de validación a 3 decimales\n",
    "    val_data[ds_name] = val_data[ds_name].round(3)  \n",
    "    \n",
    "    # Imprime la forma (cantidad de filas y columnas) del conjunto de entrenamiento\n",
    "    print(f'{ds_name} train data shape: {train_data[ds_name].shape}')  \n",
    "    \n",
    "    # Muestra las primeras filas del conjunto de entrenamiento\n",
    "    print(train_data[ds_name].head())  \n",
    "    \n",
    "    # Imprime la forma del conjunto de validación\n",
    "    print(f'{ds_name} val data shape: {val_data[ds_name].shape}')  \n",
    "    \n",
    "    # Muestra las primeras filas del conjunto de validación\n",
    "    print(val_data[ds_name].head())  \n"
   ]
  },
  {
   "cell_type": "code",
   "execution_count": null,
   "metadata": {},
   "outputs": [
    {
     "name": "stdout",
     "output_type": "stream",
     "text": [
      "--------------------------------------------------\n",
      "Processing ETH_HOURS dataset\n",
      "Longitud del entrenamiento: (26280, 1)\n",
      "Longitud de la prueba: (8784, 1)\n",
      "Longitud de la secuencia predicha: (8781, 1)\n",
      "\n",
      "--------------------------------------------------\n",
      "Processing ETH_DAYS dataset\n",
      "Longitud del entrenamiento: (1095, 1)\n",
      "Longitud de la prueba: (366, 1)\n",
      "Longitud de la secuencia predicha: (366, 1)\n",
      "\n",
      "--------------------------------------------------\n",
      "Processing ETH_MONTHS dataset\n",
      "Longitud del entrenamiento: (36, 1)\n",
      "Longitud de la prueba: (12, 1)\n",
      "Longitud de la secuencia predicha: (12, 1)\n",
      "\n"
     ]
    },
    {
     "ename": "",
     "evalue": "",
     "output_type": "error",
     "traceback": [
      "\u001b[1;31mThe Kernel crashed while executing code in the current cell or a previous cell. \n",
      "\u001b[1;31mPlease review the code in the cell(s) to identify a possible cause of the failure. \n",
      "\u001b[1;31mClick <a href='https://aka.ms/vscodeJupyterKernelCrash'>here</a> for more info. \n",
      "\u001b[1;31mView Jupyter <a href='command:jupyter.viewOutput'>log</a> for further details."
     ]
    }
   ],
   "source": [
    "for dataset in datasets:\n",
    "    print(\"-\" * 50)  # Línea divisoria\n",
    "    print(f'Processing {dataset} dataset')\n",
    "    train, test, seq = mpt.paraphrase_nlp(dataset, train_data[dataset], val_data[dataset])\n",
    "    print()\n",
    "\n",
    "\n"
   ]
  },
  {
   "cell_type": "code",
   "execution_count": null,
   "metadata": {},
   "outputs": [],
   "source": [
    "print()"
   ]
  },
  {
   "cell_type": "code",
   "execution_count": null,
   "metadata": {},
   "outputs": [],
   "source": [
    "# contar el número de tokens de args\n",
    "import tiktoken as tk\n",
    "\n",
    "encoding = tk.get_encoding(\"cl100k_base\")  # Compatible con GPT-4 y GPT-3.5-turbo\n",
    "\n",
    "# Contar tokens\n",
    "num_tokens = len(encoding.encode(text))\n",
    "print(f\"Número de tokens: {num_tokens}\")"
   ]
  }
 ],
 "metadata": {
  "kernelspec": {
   "display_name": "Python 3",
   "language": "python",
   "name": "python3"
  },
  "language_info": {
   "codemirror_mode": {
    "name": "ipython",
    "version": 3
   },
   "file_extension": ".py",
   "mimetype": "text/x-python",
   "name": "python",
   "nbconvert_exporter": "python",
   "pygments_lexer": "ipython3",
   "version": "3.11.8"
  }
 },
 "nbformat": 4,
 "nbformat_minor": 2
}
