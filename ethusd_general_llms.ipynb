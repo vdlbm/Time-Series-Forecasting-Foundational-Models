{
 "cells": [
  {
   "cell_type": "code",
   "execution_count": 6,
   "metadata": {},
   "outputs": [],
   "source": [
    "import pandas as pd\n",
    "import my_data_frequency_conversor as dfc\n",
    "#import my_models as mm\n",
    "#import my_llm_ts_preprocessor as tsp\n",
    "import my_prompting_tool as mpt "
   ]
  },
  {
   "cell_type": "code",
   "execution_count": 12,
   "metadata": {},
   "outputs": [],
   "source": [
    "# crear un diccionario con clave dataset y valor datos de training\n",
    "datasets = {\n",
    "    #'ETH_HOURS':'DATA/ETHUSD-H1.csv',\n",
    "    #'ETH_DAYS':'DATA/ETHUSD-D1.csv',\n",
    "    'ETH_MONTHS':'DATA/ETHUSD-Monthly.csv',\n",
    "    \n",
    "}\n",
    "freqs = {\n",
    "    #'ETH_HOURS':'h',\n",
    "    #'ETH_DAYS':'d',\n",
    "    'ETH_MONTHS':'MS'\n",
    "}\n",
    "train_data = {}\n",
    "val_data = {}"
   ]
  },
  {
   "cell_type": "code",
   "execution_count": 13,
   "metadata": {},
   "outputs": [
    {
     "name": "stdout",
     "output_type": "stream",
     "text": [
      "ETH_MONTHS train data shape: (84, 1)\n",
      "                 y\n",
      "DateTime          \n",
      "2017-01-01   8.044\n",
      "2017-02-01  10.711\n",
      "2017-03-01  15.830\n",
      "2017-04-01  49.777\n",
      "2017-05-01  83.518\n",
      "ETH_MONTHS val data shape: (12, 1)\n",
      "                 y\n",
      "DateTime          \n",
      "2024-01-01  2286.5\n",
      "2024-02-01  2283.0\n",
      "2024-03-01  3339.2\n",
      "2024-04-01  3650.6\n",
      "2024-05-01  3020.3\n"
     ]
    }
   ],
   "source": [
    "# Itera sobre cada conjunto de datos en el diccionario 'datasets'\n",
    "for ds_name in datasets:  \n",
    "    # Carga el archivo CSV correspondiente en un DataFrame de pandas\n",
    "    df = pd.read_csv(datasets[ds_name])  \n",
    "    \n",
    "    # Divide los datos en entrenamiento y validación usando la función split_data de dfc\n",
    "    train_data[ds_name], val_data[ds_name] = dfc.split_data(df)  \n",
    "    \n",
    "    # Ajusta la frecuencia de los datos de entrenamiento según el diccionario 'freqs'\n",
    "    train_data[ds_name] = train_data[ds_name].asfreq(freqs[ds_name])  \n",
    "    \n",
    "    # Ajusta la frecuencia de los datos de validación según el diccionario 'freqs'\n",
    "    val_data[ds_name] = val_data[ds_name].asfreq(freqs[ds_name])  \n",
    "    \n",
    "    # Redondea los valores de los datos de entrenamiento a 3 decimales\n",
    "    train_data[ds_name] = train_data[ds_name].round(3)  \n",
    "    \n",
    "    # Redondea los valores de los datos de validación a 3 decimales\n",
    "    val_data[ds_name] = val_data[ds_name].round(3)  \n",
    "    \n",
    "    # Imprime la forma (cantidad de filas y columnas) del conjunto de entrenamiento\n",
    "    print(f'{ds_name} train data shape: {train_data[ds_name].shape}')  \n",
    "    \n",
    "    # Muestra las primeras filas del conjunto de entrenamiento\n",
    "    print(train_data[ds_name].head())  \n",
    "    \n",
    "    # Imprime la forma del conjunto de validación\n",
    "    print(f'{ds_name} val data shape: {val_data[ds_name].shape}')  \n",
    "    \n",
    "    # Muestra las primeras filas del conjunto de validación\n",
    "    print(val_data[ds_name].head())  \n"
   ]
  },
  {
   "cell_type": "code",
   "execution_count": 14,
   "metadata": {},
   "outputs": [
    {
     "name": "stdout",
     "output_type": "stream",
     "text": [
      "--------------------------------------------------\n",
      "Processing ETH_MONTHS dataset\n",
      "Longitud del entrenamiento: (84, 1)\n",
      "Longitud de la prueba: (12, 1)\n",
      "Longitud de la secuencia predicha: (12,)\n",
      "Warning! Se perdieron datos.\n",
      "0     2286.5\n",
      "1     2283.0\n",
      "2     3339.2\n",
      "3     3650.6\n",
      "4     3020.3\n",
      "5     3768.2\n",
      "6     3441.7\n",
      "7     3237.0\n",
      "8     2519.4\n",
      "9     2607.8\n",
      "10    2519.0\n",
      "11    3708.4\n",
      "dtype: float64\n",
      "\n"
     ]
    }
   ],
   "source": [
    "for dataset in datasets:\n",
    "    print(\"-\" * 50)  # Línea divisoria\n",
    "    print(f'Processing {dataset} dataset')\n",
    "    train, test, seq = mpt.paraphrase_nlp(dataset, train_data[dataset], val_data[dataset])\n",
    "    print()\n",
    "\n",
    "\n"
   ]
  },
  {
   "cell_type": "code",
   "execution_count": 10,
   "metadata": {},
   "outputs": [
    {
     "name": "stdout",
     "output_type": "stream",
     "text": [
      "0     2286.5\n",
      "1     2283.0\n",
      "2     3339.2\n",
      "3     3650.6\n",
      "4     3020.3\n",
      "5     3768.2\n",
      "6     3441.7\n",
      "7     3237.0\n",
      "8     2519.4\n",
      "9     2607.8\n",
      "10    2519.0\n",
      "11    3708.4\n",
      "dtype: float64\n"
     ]
    }
   ],
   "source": [
    "print(seq)"
   ]
  },
  {
   "cell_type": "code",
   "execution_count": 11,
   "metadata": {},
   "outputs": [
    {
     "ename": "NameError",
     "evalue": "name 'text' is not defined",
     "output_type": "error",
     "traceback": [
      "\u001b[1;31m---------------------------------------------------------------------------\u001b[0m",
      "\u001b[1;31mNameError\u001b[0m                                 Traceback (most recent call last)",
      "Cell \u001b[1;32mIn[11], line 7\u001b[0m\n\u001b[0;32m      4\u001b[0m encoding \u001b[38;5;241m=\u001b[39m tk\u001b[38;5;241m.\u001b[39mget_encoding(\u001b[38;5;124m\"\u001b[39m\u001b[38;5;124mcl100k_base\u001b[39m\u001b[38;5;124m\"\u001b[39m)  \u001b[38;5;66;03m# Compatible con GPT-4 y GPT-3.5-turbo\u001b[39;00m\n\u001b[0;32m      6\u001b[0m \u001b[38;5;66;03m# Contar tokens\u001b[39;00m\n\u001b[1;32m----> 7\u001b[0m num_tokens \u001b[38;5;241m=\u001b[39m \u001b[38;5;28mlen\u001b[39m(encoding\u001b[38;5;241m.\u001b[39mencode(\u001b[43mtext\u001b[49m))\n\u001b[0;32m      8\u001b[0m \u001b[38;5;28mprint\u001b[39m(\u001b[38;5;124mf\u001b[39m\u001b[38;5;124m\"\u001b[39m\u001b[38;5;124mNúmero de tokens: \u001b[39m\u001b[38;5;132;01m{\u001b[39;00mnum_tokens\u001b[38;5;132;01m}\u001b[39;00m\u001b[38;5;124m\"\u001b[39m)\n",
      "\u001b[1;31mNameError\u001b[0m: name 'text' is not defined"
     ]
    }
   ],
   "source": [
    "# contar el número de tokens de args\n",
    "import tiktoken as tk\n",
    "\n",
    "encoding = tk.get_encoding(\"cl100k_base\")  # Compatible con GPT-4 y GPT-3.5-turbo\n",
    "\n",
    "# Contar tokens\n",
    "num_tokens = len(encoding.encode(text))\n",
    "print(f\"Número de tokens: {num_tokens}\")"
   ]
  }
 ],
 "metadata": {
  "kernelspec": {
   "display_name": "Python 3",
   "language": "python",
   "name": "python3"
  },
  "language_info": {
   "codemirror_mode": {
    "name": "ipython",
    "version": 3
   },
   "file_extension": ".py",
   "mimetype": "text/x-python",
   "name": "python",
   "nbconvert_exporter": "python",
   "pygments_lexer": "ipython3",
   "version": "3.11.8"
  }
 },
 "nbformat": 4,
 "nbformat_minor": 2
}
