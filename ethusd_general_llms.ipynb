{
 "cells": [
  {
   "cell_type": "code",
   "execution_count": 10,
   "metadata": {},
   "outputs": [],
   "source": [
    "import pandas as pd\n",
    "import numpy as np\n",
    "import matplotlib.pyplot as plt\n",
    "import my_data_frequency_conversor as dfc\n",
    "import my_models as mm\n",
    "import my_llm_ts_preprocessor as tsp\n",
    "import my_prompting_tool as mpt "
   ]
  },
  {
   "cell_type": "code",
   "execution_count": 11,
   "metadata": {},
   "outputs": [],
   "source": [
    "# crear un diccionario con clave dataset y valor datos de training\n",
    "datasets = {\n",
    "    'ETH_HOURS':'DATA/ETHUSD-H1.csv',\n",
    "    'ETH_DAYS':'DATA/ETHUSD-D1.csv',\n",
    "    'ETH_MONTHS':'DATA/ETHUSD-Monthly.csv'\n",
    "}\n",
    "freqs = {\n",
    "    'ETH_HOURS':'h',\n",
    "    'ETH_DAYS':'d',\n",
    "    'ETH_MONTHS':'MS'\n",
    "}\n",
    "train_data = {}\n",
    "val_data = {}"
   ]
  },
  {
   "cell_type": "code",
   "execution_count": 12,
   "metadata": {},
   "outputs": [
    {
     "name": "stdout",
     "output_type": "stream",
     "text": [
      "ETH_HOURS train data shape: (61344, 1)\n",
      "                         y\n",
      "DateTime                  \n",
      "2017-01-01 00:00:00  8.044\n",
      "2017-01-01 01:00:00  8.199\n",
      "2017-01-01 02:00:00  8.260\n",
      "2017-01-01 03:00:00  8.423\n",
      "2017-01-01 04:00:00  8.570\n",
      "ETH_HOURS val data shape: (8784, 1)\n",
      "                          y\n",
      "DateTime                   \n",
      "2024-01-01 00:00:00  2286.5\n",
      "2024-01-01 01:00:00  2295.6\n",
      "2024-01-01 02:00:00  2305.4\n",
      "2024-01-01 03:00:00  2295.8\n",
      "2024-01-01 04:00:00  2275.4\n",
      "ETH_DAYS train data shape: (2556, 1)\n",
      "                 y\n",
      "DateTime          \n",
      "2017-01-01   8.044\n",
      "2017-01-02   8.220\n",
      "2017-01-03   8.370\n",
      "2017-01-04   9.662\n",
      "2017-01-05  11.062\n",
      "ETH_DAYS val data shape: (366, 1)\n",
      "                 y\n",
      "DateTime          \n",
      "2024-01-01  2286.5\n",
      "2024-01-02  2352.7\n",
      "2024-01-03  2358.2\n",
      "2024-01-04  2211.3\n",
      "2024-01-05  2271.0\n",
      "ETH_MONTHS train data shape: (84, 1)\n",
      "                 y\n",
      "DateTime          \n",
      "2017-01-01   8.044\n",
      "2017-02-01  10.711\n",
      "2017-03-01  15.830\n",
      "2017-04-01  49.777\n",
      "2017-05-01  83.518\n",
      "ETH_MONTHS val data shape: (12, 1)\n",
      "                 y\n",
      "DateTime          \n",
      "2024-01-01  2286.5\n",
      "2024-02-01  2283.0\n",
      "2024-03-01  3339.2\n",
      "2024-04-01  3650.6\n",
      "2024-05-01  3020.3\n"
     ]
    }
   ],
   "source": [
    "# Itera sobre cada conjunto de datos en el diccionario 'datasets'\n",
    "for ds_name in datasets:  \n",
    "    # Carga el archivo CSV correspondiente en un DataFrame de pandas\n",
    "    df = pd.read_csv(datasets[ds_name])  \n",
    "    \n",
    "    # Divide los datos en entrenamiento y validación usando la función split_data de dfc\n",
    "    train_data[ds_name], val_data[ds_name] = dfc.split_data(df)  \n",
    "    \n",
    "    # Ajusta la frecuencia de los datos de entrenamiento según el diccionario 'freqs'\n",
    "    train_data[ds_name] = train_data[ds_name].asfreq(freqs[ds_name])  \n",
    "    \n",
    "    # Ajusta la frecuencia de los datos de validación según el diccionario 'freqs'\n",
    "    val_data[ds_name] = val_data[ds_name].asfreq(freqs[ds_name])  \n",
    "    \n",
    "    # Redondea los valores de los datos de entrenamiento a 3 decimales\n",
    "    train_data[ds_name] = train_data[ds_name].round(3)  \n",
    "    \n",
    "    # Redondea los valores de los datos de validación a 3 decimales\n",
    "    val_data[ds_name] = val_data[ds_name].round(3)  \n",
    "    \n",
    "    # Imprime la forma (cantidad de filas y columnas) del conjunto de entrenamiento\n",
    "    print(f'{ds_name} train data shape: {train_data[ds_name].shape}')  \n",
    "    \n",
    "    # Muestra las primeras filas del conjunto de entrenamiento\n",
    "    print(train_data[ds_name].head())  \n",
    "    \n",
    "    # Imprime la forma del conjunto de validación\n",
    "    print(f'{ds_name} val data shape: {val_data[ds_name].shape}')  \n",
    "    \n",
    "    # Muestra las primeras filas del conjunto de validación\n",
    "    print(val_data[ds_name].head())  \n"
   ]
  },
  {
   "cell_type": "code",
   "execution_count": null,
   "metadata": {},
   "outputs": [
    {
     "name": "stdout",
     "output_type": "stream",
     "text": [
      "--------------------------------------------------\n",
      "Processing ETH_HOURS dataset\n",
      "                         y\n",
      "DateTime                  \n",
      "2017-01-01 00:00:00  8.044\n",
      "2017-01-01 01:00:00  8.199\n",
      "2017-01-01 02:00:00  8.260\n",
      "2017-01-01 03:00:00  8.423\n",
      "2017-01-01 04:00:00  8.570\n",
      "                          y\n",
      "DateTime                   \n",
      "2024-01-01 00:00:00  2286.5\n",
      "2024-01-01 01:00:00  2295.6\n",
      "2024-01-01 02:00:00  2305.4\n",
      "2024-01-01 03:00:00  2295.8\n",
      "2024-01-01 04:00:00  2275.4\n"
     ]
    },
    {
     "ename": "KeyError",
     "evalue": "'E'",
     "output_type": "error",
     "traceback": [
      "\u001b[1;31m---------------------------------------------------------------------------\u001b[0m",
      "\u001b[1;31mKeyError\u001b[0m                                  Traceback (most recent call last)",
      "File \u001b[1;32m~\\AppData\\Local\\Packages\\PythonSoftwareFoundation.Python.3.11_qbz5n2kfra8p0\\LocalCache\\local-packages\\Python311\\site-packages\\pandas\\core\\indexes\\base.py:3805\u001b[0m, in \u001b[0;36mIndex.get_loc\u001b[1;34m(self, key)\u001b[0m\n\u001b[0;32m   3804\u001b[0m \u001b[38;5;28;01mtry\u001b[39;00m:\n\u001b[1;32m-> 3805\u001b[0m     \u001b[38;5;28;01mreturn\u001b[39;00m \u001b[38;5;28;43mself\u001b[39;49m\u001b[38;5;241;43m.\u001b[39;49m\u001b[43m_engine\u001b[49m\u001b[38;5;241;43m.\u001b[39;49m\u001b[43mget_loc\u001b[49m\u001b[43m(\u001b[49m\u001b[43mcasted_key\u001b[49m\u001b[43m)\u001b[49m\n\u001b[0;32m   3806\u001b[0m \u001b[38;5;28;01mexcept\u001b[39;00m \u001b[38;5;167;01mKeyError\u001b[39;00m \u001b[38;5;28;01mas\u001b[39;00m err:\n",
      "File \u001b[1;32mindex.pyx:167\u001b[0m, in \u001b[0;36mpandas._libs.index.IndexEngine.get_loc\u001b[1;34m()\u001b[0m\n",
      "File \u001b[1;32mindex.pyx:196\u001b[0m, in \u001b[0;36mpandas._libs.index.IndexEngine.get_loc\u001b[1;34m()\u001b[0m\n",
      "File \u001b[1;32mpandas\\\\_libs\\\\hashtable_class_helper.pxi:7081\u001b[0m, in \u001b[0;36mpandas._libs.hashtable.PyObjectHashTable.get_item\u001b[1;34m()\u001b[0m\n",
      "File \u001b[1;32mpandas\\\\_libs\\\\hashtable_class_helper.pxi:7089\u001b[0m, in \u001b[0;36mpandas._libs.hashtable.PyObjectHashTable.get_item\u001b[1;34m()\u001b[0m\n",
      "\u001b[1;31mKeyError\u001b[0m: 'E'",
      "\nThe above exception was the direct cause of the following exception:\n",
      "\u001b[1;31mKeyError\u001b[0m                                  Traceback (most recent call last)",
      "Cell \u001b[1;32mIn[14], line 6\u001b[0m\n\u001b[0;32m      4\u001b[0m \u001b[38;5;28mprint\u001b[39m(train_data[dataset]\u001b[38;5;241m.\u001b[39mhead())\n\u001b[0;32m      5\u001b[0m \u001b[38;5;28mprint\u001b[39m(val_data[dataset]\u001b[38;5;241m.\u001b[39mhead())\n\u001b[1;32m----> 6\u001b[0m train, test, seq \u001b[38;5;241m=\u001b[39m \u001b[43mmpt\u001b[49m\u001b[38;5;241;43m.\u001b[39;49m\u001b[43mparaphrase_nlp\u001b[49m\u001b[43m(\u001b[49m\u001b[43mdataset\u001b[49m\u001b[43m,\u001b[49m\u001b[43m \u001b[49m\u001b[43mtrain_data\u001b[49m\u001b[43m[\u001b[49m\u001b[43mdataset\u001b[49m\u001b[43m]\u001b[49m\u001b[43m,\u001b[49m\u001b[43m \u001b[49m\u001b[43mval_data\u001b[49m\u001b[43m[\u001b[49m\u001b[43mdataset\u001b[49m\u001b[43m]\u001b[49m\u001b[43m)\u001b[49m\n",
      "File \u001b[1;32mc:\\Users\\vicde\\Desktop\\PROYECTOS\\Time-Series-Forecasting-Foundational-Models\\my_prompting_tool.py:131\u001b[0m, in \u001b[0;36mparaphrase_nlp\u001b[1;34m(datasets_list, train_data, val_data)\u001b[0m\n\u001b[0;32m      0\u001b[0m <Error retrieving source code with stack_data see ipython/ipython#13598>\n",
      "File \u001b[1;32m~\\AppData\\Local\\Packages\\PythonSoftwareFoundation.Python.3.11_qbz5n2kfra8p0\\LocalCache\\local-packages\\Python311\\site-packages\\pandas\\core\\frame.py:4102\u001b[0m, in \u001b[0;36mDataFrame.__getitem__\u001b[1;34m(self, key)\u001b[0m\n\u001b[0;32m   4100\u001b[0m \u001b[38;5;28;01mif\u001b[39;00m \u001b[38;5;28mself\u001b[39m\u001b[38;5;241m.\u001b[39mcolumns\u001b[38;5;241m.\u001b[39mnlevels \u001b[38;5;241m>\u001b[39m \u001b[38;5;241m1\u001b[39m:\n\u001b[0;32m   4101\u001b[0m     \u001b[38;5;28;01mreturn\u001b[39;00m \u001b[38;5;28mself\u001b[39m\u001b[38;5;241m.\u001b[39m_getitem_multilevel(key)\n\u001b[1;32m-> 4102\u001b[0m indexer \u001b[38;5;241m=\u001b[39m \u001b[38;5;28;43mself\u001b[39;49m\u001b[38;5;241;43m.\u001b[39;49m\u001b[43mcolumns\u001b[49m\u001b[38;5;241;43m.\u001b[39;49m\u001b[43mget_loc\u001b[49m\u001b[43m(\u001b[49m\u001b[43mkey\u001b[49m\u001b[43m)\u001b[49m\n\u001b[0;32m   4103\u001b[0m \u001b[38;5;28;01mif\u001b[39;00m is_integer(indexer):\n\u001b[0;32m   4104\u001b[0m     indexer \u001b[38;5;241m=\u001b[39m [indexer]\n",
      "File \u001b[1;32m~\\AppData\\Local\\Packages\\PythonSoftwareFoundation.Python.3.11_qbz5n2kfra8p0\\LocalCache\\local-packages\\Python311\\site-packages\\pandas\\core\\indexes\\base.py:3812\u001b[0m, in \u001b[0;36mIndex.get_loc\u001b[1;34m(self, key)\u001b[0m\n\u001b[0;32m   3807\u001b[0m     \u001b[38;5;28;01mif\u001b[39;00m \u001b[38;5;28misinstance\u001b[39m(casted_key, \u001b[38;5;28mslice\u001b[39m) \u001b[38;5;129;01mor\u001b[39;00m (\n\u001b[0;32m   3808\u001b[0m         \u001b[38;5;28misinstance\u001b[39m(casted_key, abc\u001b[38;5;241m.\u001b[39mIterable)\n\u001b[0;32m   3809\u001b[0m         \u001b[38;5;129;01mand\u001b[39;00m \u001b[38;5;28many\u001b[39m(\u001b[38;5;28misinstance\u001b[39m(x, \u001b[38;5;28mslice\u001b[39m) \u001b[38;5;28;01mfor\u001b[39;00m x \u001b[38;5;129;01min\u001b[39;00m casted_key)\n\u001b[0;32m   3810\u001b[0m     ):\n\u001b[0;32m   3811\u001b[0m         \u001b[38;5;28;01mraise\u001b[39;00m InvalidIndexError(key)\n\u001b[1;32m-> 3812\u001b[0m     \u001b[38;5;28;01mraise\u001b[39;00m \u001b[38;5;167;01mKeyError\u001b[39;00m(key) \u001b[38;5;28;01mfrom\u001b[39;00m \u001b[38;5;21;01merr\u001b[39;00m\n\u001b[0;32m   3813\u001b[0m \u001b[38;5;28;01mexcept\u001b[39;00m \u001b[38;5;167;01mTypeError\u001b[39;00m:\n\u001b[0;32m   3814\u001b[0m     \u001b[38;5;66;03m# If we have a listlike key, _check_indexing_error will raise\u001b[39;00m\n\u001b[0;32m   3815\u001b[0m     \u001b[38;5;66;03m#  InvalidIndexError. Otherwise we fall through and re-raise\u001b[39;00m\n\u001b[0;32m   3816\u001b[0m     \u001b[38;5;66;03m#  the TypeError.\u001b[39;00m\n\u001b[0;32m   3817\u001b[0m     \u001b[38;5;28mself\u001b[39m\u001b[38;5;241m.\u001b[39m_check_indexing_error(key)\n",
      "\u001b[1;31mKeyError\u001b[0m: 'E'"
     ]
    }
   ],
   "source": [
    "for dataset in datasets:\n",
    "    print(\"-\" * 50)  # Línea divisoria\n",
    "    print(f'Processing {dataset} dataset')\n",
    "    train, test, seq = mpt.paraphrase_nlp(dataset, train_data[dataset], val_data[dataset])\n",
    "\n",
    "\n"
   ]
  },
  {
   "cell_type": "code",
   "execution_count": 8,
   "metadata": {},
   "outputs": [
    {
     "name": "stdout",
     "output_type": "stream",
     "text": [
      "0     2286.5\n",
      "1     2283.0\n",
      "2     3339.2\n",
      "3     3650.6\n",
      "4     3020.3\n",
      "5     3768.2\n",
      "6     3441.7\n",
      "7     3237.0\n",
      "8     2519.4\n",
      "9     2607.8\n",
      "10    2519.0\n",
      "11    3708.4\n",
      "dtype: float64\n"
     ]
    }
   ],
   "source": [
    "print(seq)"
   ]
  },
  {
   "cell_type": "code",
   "execution_count": null,
   "metadata": {},
   "outputs": [],
   "source": [
    "# contar el número de tokens de args\n",
    "import tiktoken as tk\n",
    "\n",
    "encoding = tk.get_encoding(\"cl100k_base\")  # Compatible con GPT-4 y GPT-3.5-turbo\n",
    "\n",
    "# Contar tokens\n",
    "num_tokens = len(encoding.encode(text))\n",
    "print(f\"Número de tokens: {num_tokens}\")"
   ]
  }
 ],
 "metadata": {
  "kernelspec": {
   "display_name": "Python 3",
   "language": "python",
   "name": "python3"
  },
  "language_info": {
   "codemirror_mode": {
    "name": "ipython",
    "version": 3
   },
   "file_extension": ".py",
   "mimetype": "text/x-python",
   "name": "python",
   "nbconvert_exporter": "python",
   "pygments_lexer": "ipython3",
   "version": "3.11.8"
  }
 },
 "nbformat": 4,
 "nbformat_minor": 2
}
